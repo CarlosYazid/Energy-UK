{
  "cells": [
    {
      "cell_type": "code",
      "source": [
        "!pip install azure-ai-ml\n"
      ],
      "outputs": [
        {
          "output_type": "stream",
          "name": "stdout",
          "text": "Requirement already satisfied: azure-ai-ml in /anaconda/envs/azureml_py38/lib/python3.10/site-packages (1.22.4)\nRequirement already satisfied: msrest>=0.6.18 in /anaconda/envs/azureml_py38/lib/python3.10/site-packages (from azure-ai-ml) (0.7.1)\nRequirement already satisfied: azure-storage-blob>=12.10.0 in /anaconda/envs/azureml_py38/lib/python3.10/site-packages (from azure-ai-ml) (12.24.0)\nRequirement already satisfied: isodate in /anaconda/envs/azureml_py38/lib/python3.10/site-packages (from azure-ai-ml) (0.6.1)\nRequirement already satisfied: azure-storage-file-datalake>=12.2.0 in /anaconda/envs/azureml_py38/lib/python3.10/site-packages (from azure-ai-ml) (12.18.0)\nRequirement already satisfied: pyjwt in /anaconda/envs/azureml_py38/lib/python3.10/site-packages (from azure-ai-ml) (2.4.0)\nRequirement already satisfied: opencensus-ext-logging in /anaconda/envs/azureml_py38/lib/python3.10/site-packages (from azure-ai-ml) (0.1.1)\nRequirement already satisfied: azure-core>=1.23.0 in /anaconda/envs/azureml_py38/lib/python3.10/site-packages (from azure-ai-ml) (1.30.2)\nRequirement already satisfied: azure-mgmt-core>=1.3.0 in /anaconda/envs/azureml_py38/lib/python3.10/site-packages (from azure-ai-ml) (1.4.0)\nRequirement already satisfied: pydash>=6.0.0 in /anaconda/envs/azureml_py38/lib/python3.10/site-packages (from azure-ai-ml) (8.0.4)\nRequirement already satisfied: opencensus-ext-azure in /anaconda/envs/azureml_py38/lib/python3.10/site-packages (from azure-ai-ml) (1.1.13)\nRequirement already satisfied: marshmallow>=3.5 in /anaconda/envs/azureml_py38/lib/python3.10/site-packages (from azure-ai-ml) (3.23.1)\nRequirement already satisfied: jsonschema>=4.0.0 in /anaconda/envs/azureml_py38/lib/python3.10/site-packages (from azure-ai-ml) (4.23.0)\nRequirement already satisfied: colorama in /anaconda/envs/azureml_py38/lib/python3.10/site-packages (from azure-ai-ml) (0.4.6)\nRequirement already satisfied: typing-extensions in /anaconda/envs/azureml_py38/lib/python3.10/site-packages (from azure-ai-ml) (4.12.2)\nRequirement already satisfied: tqdm in /anaconda/envs/azureml_py38/lib/python3.10/site-packages (from azure-ai-ml) (4.66.4)\nRequirement already satisfied: strictyaml in /anaconda/envs/azureml_py38/lib/python3.10/site-packages (from azure-ai-ml) (1.7.3)\nRequirement already satisfied: azure-storage-file-share in /anaconda/envs/azureml_py38/lib/python3.10/site-packages (from azure-ai-ml) (12.20.0)\nRequirement already satisfied: pyyaml>=5.1.0 in /anaconda/envs/azureml_py38/lib/python3.10/site-packages (from azure-ai-ml) (6.0.1)\nRequirement already satisfied: azure-common>=1.1 in /anaconda/envs/azureml_py38/lib/python3.10/site-packages (from azure-ai-ml) (1.1.28)\nRequirement already satisfied: six>=1.11.0 in /anaconda/envs/azureml_py38/lib/python3.10/site-packages (from azure-core>=1.23.0->azure-ai-ml) (1.16.0)\nRequirement already satisfied: requests>=2.21.0 in /anaconda/envs/azureml_py38/lib/python3.10/site-packages (from azure-core>=1.23.0->azure-ai-ml) (2.32.3)\nRequirement already satisfied: cryptography>=2.1.4 in /anaconda/envs/azureml_py38/lib/python3.10/site-packages (from azure-storage-blob>=12.10.0->azure-ai-ml) (38.0.4)\nRequirement already satisfied: jsonschema-specifications>=2023.03.6 in /anaconda/envs/azureml_py38/lib/python3.10/site-packages (from jsonschema>=4.0.0->azure-ai-ml) (2023.12.1)\nRequirement already satisfied: rpds-py>=0.7.1 in /anaconda/envs/azureml_py38/lib/python3.10/site-packages (from jsonschema>=4.0.0->azure-ai-ml) (0.19.1)\nRequirement already satisfied: referencing>=0.28.4 in /anaconda/envs/azureml_py38/lib/python3.10/site-packages (from jsonschema>=4.0.0->azure-ai-ml) (0.35.1)\nRequirement already satisfied: attrs>=22.2.0 in /anaconda/envs/azureml_py38/lib/python3.10/site-packages (from jsonschema>=4.0.0->azure-ai-ml) (24.2.0)\nRequirement already satisfied: packaging>=17.0 in /anaconda/envs/azureml_py38/lib/python3.10/site-packages (from marshmallow>=3.5->azure-ai-ml) (24.1)\nRequirement already satisfied: certifi>=2017.4.17 in /anaconda/envs/azureml_py38/lib/python3.10/site-packages (from msrest>=0.6.18->azure-ai-ml) (2024.8.30)\nRequirement already satisfied: requests-oauthlib>=0.5.0 in /anaconda/envs/azureml_py38/lib/python3.10/site-packages (from msrest>=0.6.18->azure-ai-ml) (2.0.0)\nRequirement already satisfied: azure-identity<2.0.0,>=1.5.0 in /anaconda/envs/azureml_py38/lib/python3.10/site-packages (from opencensus-ext-azure->azure-ai-ml) (1.17.1)\nRequirement already satisfied: psutil>=5.6.3 in /anaconda/envs/azureml_py38/lib/python3.10/site-packages (from opencensus-ext-azure->azure-ai-ml) (5.9.3)\nRequirement already satisfied: opencensus<1.0.0,>=0.11.4 in /anaconda/envs/azureml_py38/lib/python3.10/site-packages (from opencensus-ext-azure->azure-ai-ml) (0.11.4)\nRequirement already satisfied: python-dateutil>=2.6.0 in /anaconda/envs/azureml_py38/lib/python3.10/site-packages (from strictyaml->azure-ai-ml) (2.9.0.post0)\nRequirement already satisfied: msal>=1.24.0 in /anaconda/envs/azureml_py38/lib/python3.10/site-packages (from azure-identity<2.0.0,>=1.5.0->opencensus-ext-azure->azure-ai-ml) (1.30.0)\nRequirement already satisfied: msal-extensions>=0.3.0 in /anaconda/envs/azureml_py38/lib/python3.10/site-packages (from azure-identity<2.0.0,>=1.5.0->opencensus-ext-azure->azure-ai-ml) (1.2.0)\nRequirement already satisfied: cffi>=1.12 in /anaconda/envs/azureml_py38/lib/python3.10/site-packages (from cryptography>=2.1.4->azure-storage-blob>=12.10.0->azure-ai-ml) (1.16.0)\nRequirement already satisfied: google-api-core<3.0.0,>=1.0.0 in /anaconda/envs/azureml_py38/lib/python3.10/site-packages (from opencensus<1.0.0,>=0.11.4->opencensus-ext-azure->azure-ai-ml) (2.19.1)\nRequirement already satisfied: opencensus-context>=0.1.3 in /anaconda/envs/azureml_py38/lib/python3.10/site-packages (from opencensus<1.0.0,>=0.11.4->opencensus-ext-azure->azure-ai-ml) (0.1.3)\nRequirement already satisfied: urllib3<3,>=1.21.1 in /anaconda/envs/azureml_py38/lib/python3.10/site-packages (from requests>=2.21.0->azure-core>=1.23.0->azure-ai-ml) (1.26.19)\nRequirement already satisfied: charset-normalizer<4,>=2 in /anaconda/envs/azureml_py38/lib/python3.10/site-packages (from requests>=2.21.0->azure-core>=1.23.0->azure-ai-ml) (3.3.2)\nRequirement already satisfied: idna<4,>=2.5 in /anaconda/envs/azureml_py38/lib/python3.10/site-packages (from requests>=2.21.0->azure-core>=1.23.0->azure-ai-ml) (3.7)\nRequirement already satisfied: oauthlib>=3.0.0 in /anaconda/envs/azureml_py38/lib/python3.10/site-packages (from requests-oauthlib>=0.5.0->msrest>=0.6.18->azure-ai-ml) (3.2.2)\nRequirement already satisfied: pycparser in /anaconda/envs/azureml_py38/lib/python3.10/site-packages (from cffi>=1.12->cryptography>=2.1.4->azure-storage-blob>=12.10.0->azure-ai-ml) (2.22)\nRequirement already satisfied: protobuf!=3.20.0,!=3.20.1,!=4.21.0,!=4.21.1,!=4.21.2,!=4.21.3,!=4.21.4,!=4.21.5,<6.0.0.dev0,>=3.19.5 in /anaconda/envs/azureml_py38/lib/python3.10/site-packages (from google-api-core<3.0.0,>=1.0.0->opencensus<1.0.0,>=0.11.4->opencensus-ext-azure->azure-ai-ml) (3.20.3)\nRequirement already satisfied: google-auth<3.0.dev0,>=2.14.1 in /anaconda/envs/azureml_py38/lib/python3.10/site-packages (from google-api-core<3.0.0,>=1.0.0->opencensus<1.0.0,>=0.11.4->opencensus-ext-azure->azure-ai-ml) (2.32.0)\nRequirement already satisfied: googleapis-common-protos<2.0.dev0,>=1.56.2 in /anaconda/envs/azureml_py38/lib/python3.10/site-packages (from google-api-core<3.0.0,>=1.0.0->opencensus<1.0.0,>=0.11.4->opencensus-ext-azure->azure-ai-ml) (1.63.2)\nRequirement already satisfied: proto-plus<2.0.0dev,>=1.22.3 in /anaconda/envs/azureml_py38/lib/python3.10/site-packages (from google-api-core<3.0.0,>=1.0.0->opencensus<1.0.0,>=0.11.4->opencensus-ext-azure->azure-ai-ml) (1.24.0)\nRequirement already satisfied: portalocker<3,>=1.4 in /anaconda/envs/azureml_py38/lib/python3.10/site-packages (from msal-extensions>=0.3.0->azure-identity<2.0.0,>=1.5.0->opencensus-ext-azure->azure-ai-ml) (2.10.1)\nRequirement already satisfied: cachetools<6.0,>=2.0.0 in /anaconda/envs/azureml_py38/lib/python3.10/site-packages (from google-auth<3.0.dev0,>=2.14.1->google-api-core<3.0.0,>=1.0.0->opencensus<1.0.0,>=0.11.4->opencensus-ext-azure->azure-ai-ml) (5.4.0)\nRequirement already satisfied: pyasn1-modules>=0.2.1 in /anaconda/envs/azureml_py38/lib/python3.10/site-packages (from google-auth<3.0.dev0,>=2.14.1->google-api-core<3.0.0,>=1.0.0->opencensus<1.0.0,>=0.11.4->opencensus-ext-azure->azure-ai-ml) (0.4.0)\nRequirement already satisfied: rsa<5,>=3.1.4 in /anaconda/envs/azureml_py38/lib/python3.10/site-packages (from google-auth<3.0.dev0,>=2.14.1->google-api-core<3.0.0,>=1.0.0->opencensus<1.0.0,>=0.11.4->opencensus-ext-azure->azure-ai-ml) (4.9)\nRequirement already satisfied: pyasn1<0.7.0,>=0.4.6 in /anaconda/envs/azureml_py38/lib/python3.10/site-packages (from pyasn1-modules>=0.2.1->google-auth<3.0.dev0,>=2.14.1->google-api-core<3.0.0,>=1.0.0->opencensus<1.0.0,>=0.11.4->opencensus-ext-azure->azure-ai-ml) (0.6.0)\n"
        }
      ],
      "execution_count": 18,
      "metadata": {
        "jupyter": {
          "source_hidden": false,
          "outputs_hidden": false
        },
        "nteract": {
          "transient": {
            "deleting": false
          }
        },
        "gather": {
          "logged": 1733469869828
        }
      }
    },
    {
      "cell_type": "code",
      "source": [
        "from azure.ai.ml.entities import Environment\n",
        "from azureml.core.model import InferenceConfig, Model\n",
        "from azureml.core import Workspace\n",
        "from azure.ai.ml.entities import ManagedOnlineDeployment, CodeConfiguration\n",
        "from azure.ai.ml import MLClient\n",
        "from azure.identity import AzureCliCredential\n",
        "\n",
        "from dotenv import load_dotenv\n",
        "import os"
      ],
      "outputs": [],
      "execution_count": 1,
      "metadata": {
        "jupyter": {
          "source_hidden": false,
          "outputs_hidden": false
        },
        "nteract": {
          "transient": {
            "deleting": false
          }
        },
        "gather": {
          "logged": 1733509838778
        }
      }
    },
    {
      "cell_type": "code",
      "source": [
        "load_dotenv()\n",
        "\n",
        "ENVIRONMENT_PATH = os.getenv(\"ENVIRONMENT_PATH\") # Ruta al archivo environment.yml\n",
        "MODEL_NAME = os.getenv(\"MODEL_NAME\")\n",
        "\n",
        "credential = AzureCliCredential()\n",
        "\n",
        "# Cargo el workspace configurado\n",
        "workspace = Workspace.from_config() \n",
        "\n",
        "# Cargo el archivo environment.yml\n",
        "env = Environment(\n",
        "    name=\"UKEnergyModelEnvironment\",\n",
        "    description=\"Entorno de ML para predicciones de energía\",\n",
        "    version=\"1\",\n",
        "    conda_file=ENVIRONMENT_PATH,  # Archivo con dependencias Conda\n",
        "    image=\"mcr.microsoft.com/azureml/openmpi4.1.0-ubuntu20.04:latest\",  # Imagen base de Docker\n",
        ")\n",
        "\n",
        "registered_model = Model(workspace, name=MODEL_NAME)\n",
        "print(f\"Nombre: {registered_model.name}, Versión: {registered_model.version}\")"
      ],
      "outputs": [
        {
          "output_type": "stream",
          "name": "stdout",
          "text": "Nombre: tensorflow_series_UK_energy, Versión: 4\n"
        }
      ],
      "execution_count": 2,
      "metadata": {
        "jupyter": {
          "source_hidden": false,
          "outputs_hidden": false
        },
        "nteract": {
          "transient": {
            "deleting": false
          }
        },
        "gather": {
          "logged": 1733509841786
        }
      }
    },
    {
      "cell_type": "code",
      "source": [
        "access_token = credential.get_token(\"https://management.azure.com/.default\")\n",
        "with open(\"token.txt\",\"w+\") as tokenFile:\n",
        "    tokenFile.write(\"TOKEN = \"+access_token.token)"
      ],
      "outputs": [],
      "execution_count": null,
      "metadata": {
        "jupyter": {
          "source_hidden": false,
          "outputs_hidden": false
        },
        "nteract": {
          "transient": {
            "deleting": false
          }
        }
      }
    },
    {
      "cell_type": "code",
      "source": [
        "scripts_dir = \"./\"\n",
        "\n",
        "# Configuración del despliegue\n",
        "model_deployment = ManagedOnlineDeployment(\n",
        "    name=\"UKEnergyModelDeploy\",\n",
        "    endpoint_name=\"uk-energy-model-endpoint\",\n",
        "    description=\"Endpoint de inferencia del modelo de predicción de energia de UK\",\n",
        "    model=registered_model,  # Modelo registrado en el workspace\n",
        "    environment=env,  # Entorno configurado previamente\n",
        "    code_configuration=CodeConfiguration(\n",
        "        code=os.path.join(scripts_dir, \"scripts\"),  # Directorio de scripts\n",
        "        scoring_script=\"inference_score.py\"  # Script de inferencia\n",
        "    ),\n",
        "    instance_type=\"Standard_DS4_v2\",\n",
        "    instance_count=1,\n",
        "    environment_variables={\n",
        "        \"MODEL_PATH\": \"azureml-models/tensorflow_series_model/1/\",\n",
        "        \"SCALER_PATH\": \"azureml-models/tensorflow_series_model/scaler.pkl\",\n",
        "        \"TARGET_INDEX\": \"0\",\n",
        "        \"WINDOW_SIZE\": \"48\"\n",
        "    }\n",
        ")\n",
        "\n",
        "# Implementar el despliegue\n",
        "ml_client = MLClient.from_config(credential)\n",
        "ml_client.online_deployments.get_logs(\n",
        "    name=\"tensorflow-series-uk-energy-3\", endpoint_name=\"uk-energy-model-endpoint\", lines=1000\n",
        ")\n",
        "#ml_client.environments.create_or_update(env)\n",
        "#ml_client.begin_create_or_update(model_deployment).wait()\n"
      ],
      "outputs": [
        {
          "output_type": "stream",
          "name": "stderr",
          "text": "Found the config file in: /config.json\n"
        },
        {
          "output_type": "execute_result",
          "execution_count": 10,
          "data": {
            "text/plain": "'Instance status:\\nSystemSetup: Succeeded\\nUserContainerImagePull: Succeeded\\nModelDownload: Succeeded\\nUserContainerStart: InProgress\\n\\nContainer events:\\nKind: Pod, Name: Pulling, Type: Normal, Time: 2024-12-06T19:49:01.170064Z, Message: Start pulling container image\\nKind: Pod, Name: Downloading, Type: Normal, Time: 2024-12-06T19:49:01.617457Z, Message: Start downloading models\\nKind: Pod, Name: Pulled, Type: Normal, Time: 2024-12-06T19:49:40.784018Z, Message: Container image is pulled successfully\\nKind: Pod, Name: Downloaded, Type: Normal, Time: 2024-12-06T19:49:40.784018Z, Message: Models are downloaded successfully\\nKind: Pod, Name: Created, Type: Normal, Time: 2024-12-06T19:49:40.961159Z, Message: Created container inference-server\\nKind: Pod, Name: Started, Type: Normal, Time: 2024-12-06T19:49:41.037167Z, Message: Started container inference-server\\n\\nContainer logs:\\n2024-12-06T19:49:41,047232255+00:00 - gunicorn/run \\n2024-12-06T19:49:41,049214667+00:00 - nginx/run \\n2024-12-06T19:49:41,051653282+00:00 - rsyslog/run \\n2024-12-06T19:49:41,061616942+00:00 | gunicorn/run | \\n2024-12-06T19:49:41,070097894+00:00 | gunicorn/run | ###############################################\\n2024-12-06T19:49:41,073295413+00:00 | gunicorn/run | AzureML Container Runtime Information\\n2024-12-06T19:49:41,076606033+00:00 | gunicorn/run | ###############################################\\n2024-12-06T19:49:41,079665551+00:00 | gunicorn/run | \\n2024-12-06T19:49:41,083006972+00:00 | gunicorn/run | \\n2024-12-06T19:49:41,088643906+00:00 | gunicorn/run | AzureML image information: BASE IMAGE NAME\\ncpu-ubuntu-22.04 \\n====================================================\\n\\nBASE_OS\\nmcr.microsoft.com/mirror/docker/library/ubuntu:22.04 \\n=====================================================\\nBASE_IMAGE_NAME_TAG\\ninference-base-2204:20241128.v1\\nminimal-ubuntu22.04-py39-cpu-inference:20241128.v1\\n2024-12-06T19:49:41,091887225+00:00 | gunicorn/run | \\n2024-12-06T19:49:41,094900444+00:00 | gunicorn/run | \\n2024-12-06T19:49:41,096881656+00:00 | gunicorn/run | PATH environment variable: /azureml-envs/azureml_488e72fe3d734078b6c9624ed80fc1ba/bin:/opt/miniconda/envs/amlenv/bin:/opt/miniconda/bin:/usr/local/sbin:/usr/local/bin:/usr/sbin:/usr/bin:/sbin:/bin\\n2024-12-06T19:49:41,098813267+00:00 | gunicorn/run | PYTHONPATH environment variable: \\n2024-12-06T19:49:41,100685979+00:00 | gunicorn/run | \\n2024-12-06T19:49:41,417948197+00:00 | gunicorn/run | CONDAPATH environment variable: /azureml-envs/azureml_488e72fe3d734078b6c9624ed80fc1ba\\n\\n# conda environments:\\n#\\nbase                  *  /azureml-envs/azureml_488e72fe3d734078b6c9624ed80fc1ba\\n                         /opt/miniconda\\n                         /opt/miniconda/envs/amlenv\\n\\n2024-12-06T19:49:41,949716513+00:00 | gunicorn/run | \\n2024-12-06T19:49:41,951642525+00:00 | gunicorn/run | Pip Dependencies (before dynamic installation)\\n\\nanaconda-anon-usage @ file:///croot/anaconda-anon-usage_1710965072196/work\\nannotated-types==0.7.0\\napplicationinsights==0.11.10\\narchspec @ file:///croot/archspec_1709217642129/work\\nazure-core==1.32.0\\nazure-identity==1.19.0\\nazureml-inference-server-http==1.3.4\\nblinker==1.9.0\\nboltons @ file:///work/perseverance-python-buildout/croot/boltons_1698851177130/work\\nBrotli @ file:///croot/brotli-split_1714483155106/work\\ncachetools==5.5.0\\ncertifi @ file:///home/conda/feedstock_root/build_artifacts/certifi_1725278078093/work/certifi\\ncffi @ file:///croot/cffi_1714483155441/work\\ncharset-normalizer @ file:///croot/charset-normalizer_1721748349566/work\\nclick==8.1.7\\nconda @ file:///home/conda/feedstock_root/build_artifacts/conda_1722273156164/work\\nconda-content-trust @ file:///croot/conda-content-trust_1714483159009/work\\nconda-libmamba-solver @ file:///croot/conda-libmamba-solver_1721662679737/work/src\\nconda-package-handling @ file:///croot/conda-package-handling_1718138267740/work\\nconda_package_streaming @ file:///croot/conda-package-streaming_1718136078615/work\\ncryptography @ file:///croot/cryptography_1714660666131/work\\ndistro @ file:///croot/distro_1714488253808/work\\nFlask==2.3.2\\nFlask-Cors==5.0.0\\nfrozendict @ file:///croot/frozendict_1713194832637/work\\ngoogle-api-core==2.23.0\\ngoogle-auth==2.36.0\\ngoogleapis-common-protos==1.66.0\\ngunicorn==23.0.0\\nidna @ file:///croot/idna_1714398848350/work\\ninference-schema==1.8\\nitsdangerous==2.2.0\\nJinja2==3.1.4\\njsonpatch @ file:///croot/jsonpatch_1714483231291/work\\njsonpointer==2.1\\nlibmambapy @ file:///croot/mamba-split_1714483352891/work/libmambapy\\nMarkupSafe==3.0.2\\nmenuinst @ file:///croot/menuinst_1723567589013/work\\nmsal==1.31.1\\nmsal-extensions==1.2.0\\nopencensus==0.11.4\\nopencensus-context==0.1.3\\nopencensus-ext-azure==1.1.13\\npackaging @ file:///croot/packaging_1720101850331/work\\nplatformdirs @ file:///work/perseverance-python-buildout/croot/platformdirs_1701732573265/work\\npluggy @ file:///work/perseverance-python-buildout/croot/pluggy_1698805497733/work\\nportalocker==2.10.1\\nproto-plus==1.25.0\\nprotobuf==5.29.1\\npsutil==6.0.0\\npyasn1==0.6.1\\npyasn1_modules==0.4.1\\npycosat @ file:///croot/pycosat_1714510623388/work\\npycparser @ file:///tmp/build/80754af9/pycparser_1636541352034/work\\npydantic==2.9.2\\npydantic-settings==2.6.1\\npydantic_core==2.23.4\\nPyJWT==2.10.1\\nPySocks @ file:///work/perseverance-python-buildout/croot/pysocks_1698845478203/work\\npython-dateutil==2.9.0.post0\\npython-dotenv==1.0.1\\npytz==2024.2\\nrequests @ file:///croot/requests_1721410876868/work\\nrsa==4.9\\nruamel.yaml @ file:///work/perseverance-python-buildout/croot/ruamel.yaml_1698863605521/work\\nsetuptools==72.1.0\\nsix==1.17.0\\ntqdm @ file:///croot/tqdm_1716395931952/work\\ntruststore @ file:///work/perseverance-python-buildout/croot/truststore_1701735771625/work\\ntyping_extensions==4.12.2\\nurllib3 @ file:///croot/urllib3_1718912636303/work\\nWerkzeug==3.1.3\\nwheel==0.43.0\\nwrapt==1.16.0\\nzstandard @ file:///croot/zstandard_1714677652653/work\\n\\n2024-12-06T19:49:42,246280806+00:00 | gunicorn/run | \\n2024-12-06T19:49:42,248152718+00:00 | gunicorn/run | Entry script directory: /var/azureml-app/241206144453-1931582247/.\\n2024-12-06T19:49:42,251120436+00:00 | gunicorn/run | \\n2024-12-06T19:49:42,253256649+00:00 | gunicorn/run | ###############################################\\n2024-12-06T19:49:42,255142960+00:00 | gunicorn/run | Dynamic Python Package Installation\\n2024-12-06T19:49:42,257115372+00:00 | gunicorn/run | ###############################################\\n2024-12-06T19:49:42,258971683+00:00 | gunicorn/run | \\n2024-12-06T19:49:42,261040496+00:00 | gunicorn/run | Dynamic Python package installation is disabled.\\n2024-12-06T19:49:42,263059808+00:00 | gunicorn/run | \\n2024-12-06T19:49:42,265075920+00:00 | gunicorn/run | ###############################################\\n2024-12-06T19:49:42,267112332+00:00 | gunicorn/run | Checking if the Python package azureml-inference-server-http is installed\\n2024-12-06T19:49:42,271472359+00:00 | gunicorn/run | ###############################################\\n2024-12-06T19:49:42,274030774+00:00 | gunicorn/run | \\n2024-12-06T19:49:42,546574622+00:00 | gunicorn/run | \\n2024-12-06T19:49:42,548524534+00:00 | gunicorn/run | ###############################################\\n2024-12-06T19:49:42,550360445+00:00 | gunicorn/run | AzureML Inference Server\\n2024-12-06T19:49:42,552295657+00:00 | gunicorn/run | ###############################################\\n2024-12-06T19:49:42,554213169+00:00 | gunicorn/run | \\n2024-12-06T19:49:42,556222981+00:00 | gunicorn/run | Starting AzureML Inference Server HTTP.\\n2024-12-06 19:49:42,690 I [10] azmlinfsrv - Loaded logging config from /azureml-envs/azureml_488e72fe3d734078b6c9624ed80fc1ba/lib/python3.12/site-packages/azureml_inference_server_http/logging.json\\n2024-12-06 19:49:42,712 I [10] gunicorn.error - Starting gunicorn 23.0.0\\n2024-12-06 19:49:42,712 I [10] gunicorn.error - Listening at: http://0.0.0.0:31311 (10)\\n2024-12-06 19:49:42,712 I [10] gunicorn.error - Using worker: sync\\n2024-12-06 19:49:42,714 I [67] gunicorn.error - Booting worker with pid: 67\\n/azureml-envs/azureml_488e72fe3d734078b6c9624ed80fc1ba/lib/python3.12/site-packages/pydantic/_internal/_fields.py:132: UserWarning: Field \"model_dc_storage_enabled\" in AMLInferenceServerConfig has conflict with protected namespace \"model_\".\\n\\nYou may be able to resolve this warning by setting `model_config[\\'protected_namespaces\\'] = (\\'settings_\\',)`.\\n  warnings.warn(\\n\\nAzure ML Inferencing HTTP server v1.3.4\\n\\n\\nServer Settings\\n---------------\\nEntry Script Name: /var/azureml-app/241206144453-1931582247/inference_score.py\\nModel Directory: /var/azureml-app/azureml-models/tensorflow_series_UK_energy/7\\nConfig File: None\\nWorker Count: 1\\nWorker Timeout (seconds): 300\\nServer Port: 31311\\nHealth Port: 31311\\nApplication Insights Enabled: false\\nApplication Insights Key: None\\nInferencing HTTP server version: azmlinfsrv/1.3.4\\nCORS for the specified origins: None\\nCreate dedicated endpoint for health: None\\n\\n\\nServer Routes\\n---------------\\nLiveness Probe: GET   127.0.0.1:31311/\\nScore:          POST  127.0.0.1:31311/score\\n\\n2024-12-06 19:49:42,811 W [67] azmlinfsrv - Found extra keys in the config file that are not supported by the server.\\nExtra keys = [\\'AZUREML_ENTRY_SCRIPT\\', \\'AZUREML_MODEL_DIR\\', \\'HOSTNAME\\']\\n2024-12-06 19:49:43,041 W [67] azmlinfsrv - AML_FLASK_ONE_COMPATIBILITY is set. However, compatibility patch for Flask 1 has failed. This is only a problem if you use @rawhttp and relies on deprecated methods such as has_key().\\nTraceback (most recent call last):\\n  File \"/azureml-envs/azureml_488e72fe3d734078b6c9624ed80fc1ba/lib/python3.12/site-packages/azureml_inference_server_http/server/create_app.py\", line 58, in <module>\\n    patch_flask()\\n  File \"/azureml-envs/azureml_488e72fe3d734078b6c9624ed80fc1ba/lib/python3.12/site-packages/azureml_inference_server_http/server/create_app.py\", line 33, in patch_flask\\n    patch_werkzeug = LooseVersion(werkzeug.__version__) >= LooseVersion(\"2.1\")\\n                                  ^^^^^^^^^^^^^^^^^^^^\\nAttributeError: module \\'werkzeug\\' has no attribute \\'__version__\\'\\n\\nInitializing logger\\n2024-12-06 19:49:43,042 I [67] azmlinfsrv - Starting up app insights client\\n2024-12-06 19:49:43,045 E [67] azmlinfsrv - Traceback (most recent call last):\\n  File \"/azureml-envs/azureml_488e72fe3d734078b6c9624ed80fc1ba/lib/python3.12/site-packages/azureml_inference_server_http/server/user_script.py\", line 77, in load_script\\n    main_module_spec.loader.exec_module(user_module)\\n  File \"<frozen importlib._bootstrap_external>\", line 995, in exec_module\\n  File \"<frozen importlib._bootstrap>\", line 488, in _call_with_frames_removed\\n  File \"/var/azureml-app/241206144453-1931582247/inference_score.py\", line 3, in <module>\\n    import numpy as np\\nModuleNotFoundError: No module named \\'numpy\\'\\n\\nThe above exception was the direct cause of the following exception:\\n\\nTraceback (most recent call last):\\n  File \"/azureml-envs/azureml_488e72fe3d734078b6c9624ed80fc1ba/lib/python3.12/site-packages/azureml_inference_server_http/server/aml_blueprint.py\", line 91, in setup\\n    self.user_script.load_script(config.app_root)\\n  File \"/azureml-envs/azureml_488e72fe3d734078b6c9624ed80fc1ba/lib/python3.12/site-packages/azureml_inference_server_http/server/user_script.py\", line 79, in load_script\\n    raise UserScriptImportException(ex) from ex\\nazureml_inference_server_http.server.user_script.UserScriptImportException: Failed to import user script because it raised an unhandled exception\\n\\n2024-12-06 19:49:43,045 I [67] gunicorn.error - Worker exiting (pid: 67)\\n2024-12-06 19:49:43,106 E [10] gunicorn.error - Worker (pid:67) exited with code 3\\n2024-12-06 19:49:43,106 E [10] gunicorn.error - Shutting down: Master\\n2024-12-06 19:49:43,107 E [10] gunicorn.error - Reason: Worker failed to boot.\\n\\nAzure ML Inferencing HTTP server v1.3.4\\n\\n\\nServer Settings\\n---------------\\nEntry Script Name: /var/azureml-app/241206144453-1931582247/inference_score.py\\nModel Directory: /var/azureml-app/azureml-models/tensorflow_series_UK_energy/7\\nConfig File: None\\nWorker Count: 1\\nWorker Timeout (seconds): 300\\nServer Port: 31311\\nHealth Port: 31311\\nApplication Insights Enabled: false\\nApplication Insights Key: None\\nInferencing HTTP server version: azmlinfsrv/1.3.4\\nCORS for the specified origins: None\\nCreate dedicated endpoint for health: None\\n\\n\\nServer Routes\\n---------------\\nLiveness Probe: GET   127.0.0.1:31311/\\nScore:          POST  127.0.0.1:31311/score\\n\\n2024-12-06T19:49:43,138663417+00:00 - gunicorn/finish 3 0\\n2024-12-06T19:49:43,140495329+00:00 - Exit code 3 is not normal. Killing image.\\n\\n'"
          },
          "metadata": {}
        }
      ],
      "execution_count": 10,
      "metadata": {
        "jupyter": {
          "source_hidden": false,
          "outputs_hidden": false
        },
        "nteract": {
          "transient": {
            "deleting": false
          }
        },
        "gather": {
          "logged": 1733514721287
        }
      }
    }
  ],
  "metadata": {
    "kernelspec": {
      "name": "python38-azureml",
      "language": "python",
      "display_name": "Python 3.8 - AzureML"
    },
    "language_info": {
      "name": "python",
      "version": "3.10.11",
      "mimetype": "text/x-python",
      "codemirror_mode": {
        "name": "ipython",
        "version": 3
      },
      "pygments_lexer": "ipython3",
      "nbconvert_exporter": "python",
      "file_extension": ".py"
    },
    "microsoft": {
      "ms_spell_check": {
        "ms_spell_check_language": "en"
      },
      "host": {
        "AzureML": {
          "notebookHasBeenCompleted": true
        }
      }
    },
    "kernel_info": {
      "name": "python38-azureml"
    },
    "nteract": {
      "version": "nteract-front-end@1.0.0"
    }
  },
  "nbformat": 4,
  "nbformat_minor": 2
}