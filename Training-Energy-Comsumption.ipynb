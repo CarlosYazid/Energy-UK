{
  "cells": [
    {
      "cell_type": "code",
      "source": [
        "import mlflow\n",
        "import mlflow.keras as mlflowKeras\n",
        "import mlflow.tensorflow\n",
        "from mlflow.models.signature import ModelSignature\n",
        "from mlflow.types.schema import Schema, TensorSpec\n",
        "from azureml.core import Workspace\n",
        "from azureml.core.model import Model\n",
        "\n",
        "\n",
        "import tensorflow as tf\n",
        "from tensorflow.keras.callbacks import EarlyStopping\n",
        "from tensorflow.keras.models import Sequential\n",
        "from tensorflow.keras.layers import LSTM, Dense\n",
        "\n",
        "from pyngrok import ngrok\n",
        "from getpass import getpass\n",
        "\n",
        "import joblib\n",
        "\n",
        "import pandas as pd\n",
        "import numpy as np\n",
        "from sklearn.preprocessing import MinMaxScaler\n",
        "from sklearn.metrics import mean_absolute_error, mean_squared_error, r2_score\n",
        "import matplotlib.pyplot as plt\n",
        "\n",
        "from datetime import datetime\n",
        "from dotenv import load_dotenv\n",
        "import os"
      ],
      "outputs": [
        {
          "output_type": "stream",
          "name": "stderr",
          "text": "2024-12-06 19:42:02.696780: I tensorflow/core/util/port.cc:153] oneDNN custom operations are on. You may see slightly different numerical results due to floating-point round-off errors from different computation orders. To turn them off, set the environment variable `TF_ENABLE_ONEDNN_OPTS=0`.\n2024-12-06 19:42:02.712703: E external/local_xla/xla/stream_executor/cuda/cuda_fft.cc:485] Unable to register cuFFT factory: Attempting to register factory for plugin cuFFT when one has already been registered\n2024-12-06 19:42:02.732034: E external/local_xla/xla/stream_executor/cuda/cuda_dnn.cc:8454] Unable to register cuDNN factory: Attempting to register factory for plugin cuDNN when one has already been registered\n2024-12-06 19:42:02.737587: E external/local_xla/xla/stream_executor/cuda/cuda_blas.cc:1452] Unable to register cuBLAS factory: Attempting to register factory for plugin cuBLAS when one has already been registered\n2024-12-06 19:42:02.751448: I tensorflow/core/platform/cpu_feature_guard.cc:210] This TensorFlow binary is optimized to use available CPU instructions in performance-critical operations.\nTo enable the following instructions: AVX2 AVX512F AVX512_VNNI FMA, in other operations, rebuild TensorFlow with the appropriate compiler flags.\n2024-12-06 19:42:03.858533: W tensorflow/compiler/tf2tensorrt/utils/py_utils.cc:38] TF-TRT Warning: Could not find TensorRT\n"
        }
      ],
      "execution_count": 1,
      "metadata": {
        "jupyter": {
          "source_hidden": false,
          "outputs_hidden": false
        },
        "nteract": {
          "transient": {
            "deleting": false
          }
        },
        "gather": {
          "logged": 1733514125019
        }
      }
    },
    {
      "cell_type": "code",
      "source": [
        "# Levanto el servicio de MLFlow\n",
        "get_ipython().system_raw(\"mlflow ui --port 5000 &\")\n",
        "\n",
        "# Termino los tuneles abiertos \n",
        "ngrok.kill()"
      ],
      "outputs": [
        {
          "output_type": "stream",
          "name": "stderr",
          "text": "[2024-12-06 16:42:03 +0000] [12014] [INFO] Starting gunicorn 22.0.0\n[2024-12-06 16:42:03 +0000] [12014] [INFO] Listening at: http://127.0.0.1:5000 (12014)\n[2024-12-06 16:42:03 +0000] [12014] [INFO] Using worker: sync\n[2024-12-06 16:42:03 +0000] [12015] [INFO] Booting worker with pid: 12015\n[2024-12-06 16:42:03 +0000] [12016] [INFO] Booting worker with pid: 12016\n[2024-12-06 16:42:03 +0000] [12017] [INFO] Booting worker with pid: 12017\n[2024-12-06 16:42:03 +0000] [12018] [INFO] Booting worker with pid: 12018\n"
        }
      ],
      "execution_count": 2,
      "metadata": {
        "jupyter": {
          "source_hidden": false,
          "outputs_hidden": false
        },
        "nteract": {
          "transient": {
            "deleting": false
          }
        },
        "gather": {
          "logged": 1733503322301
        }
      }
    },
    {
      "cell_type": "code",
      "source": [
        "#Cargo las variables de entorno\n",
        "load_dotenv()\n",
        "\n",
        "# Accedo al token de autentificación para iniciar la aplicación en Ngrok\n",
        "NGROK_AUTH_TOKEN = os.environ.get('NGROK_TOKEN')\n",
        "\n",
        "ngrok.set_auth_token(NGROK_AUTH_TOKEN)\n",
        "\n",
        "ngrok_tunnel = ngrok.connect(addr=\"5000\", proto=\"http\", bind_tls=True)\n",
        "print(\"MLflow Tracking UI:\", ngrok_tunnel.public_url)"
      ],
      "outputs": [
        {
          "output_type": "stream",
          "name": "stdout",
          "text": "MLflow Tracking UI: https://08b6-52-147-172-125.ngrok-free.app\n"
        }
      ],
      "execution_count": 3,
      "metadata": {
        "jupyter": {
          "source_hidden": false,
          "outputs_hidden": false
        },
        "nteract": {
          "transient": {
            "deleting": false
          }
        },
        "gather": {
          "logged": 1733503334031
        }
      }
    },
    {
      "cell_type": "code",
      "source": [
        "#Establezco una semilla\n",
        "np.random.seed(42)"
      ],
      "outputs": [],
      "execution_count": 4,
      "metadata": {
        "id": "Xz7jTmyhVAbV",
        "gather": {
          "logged": 1733503361865
        }
      }
    },
    {
      "cell_type": "code",
      "source": [
        "#Cargo los datos\n",
        "data_final = pd.read_csv('./uk_electricity.csv', parse_dates=[\"settlement_date\"])\n",
        "\n",
        "#Relleno de 0 los NaN\n",
        "data_final.fillna(0, inplace=True)\n",
        "\n",
        "#Cambio el tipo de dato para optimizar el espacio en memoria\n",
        "def change_type():\n",
        "\n",
        "  data_final[\"settlement_period\"] = data_final[\"settlement_period\"].astype(np.int8)\n",
        "  data_final[\"period_hour\"] = data_final[\"period_hour\"].astype(np.float16)\n",
        "  data_final[\"nd\"] = data_final[\"nd\"].astype(np.uint16)\n",
        "  data_final[\"tsd\"] = data_final[\"tsd\"].astype(np.uint16)\n",
        "  data_final[\"england_wales_demand\"] = data_final[\"england_wales_demand\"].astype(np.uint16)\n",
        "  data_final['embedded_wind_generation'] = data_final['embedded_wind_generation'].astype(np.int16)\n",
        "  data_final['embedded_solar_generation'] = data_final['embedded_solar_generation'].astype(np.int16)\n",
        "  data_final[\"non_bm_stor\"] = data_final[\"non_bm_stor\"].astype(np.int16)\n",
        "  data_final[\"pump_storage_pumping\"] = data_final[\"pump_storage_pumping\"].astype(np.int16)\n",
        "  data_final[\"ifa_flow\"] = data_final[\"ifa_flow\"].astype(np.int16)\n",
        "  data_final[\"ifa2_flow\"] = data_final[\"ifa2_flow\"].astype(np.int16)\n",
        "  data_final[\"britned_flow\"] = data_final[\"britned_flow\"].astype(np.int16)\n",
        "  data_final[\"moyle_flow\"] = data_final[\"moyle_flow\"].astype(np.int16)\n",
        "  data_final[\"east_west_flow\"] = data_final[\"east_west_flow\"].astype(np.int16)\n",
        "  data_final[\"nemo_flow\"] = data_final[\"nemo_flow\"].astype(np.int16)\n",
        "  data_final['is_holiday'] = data_final['is_holiday'].astype(np.bool_)\n",
        "\n",
        "change_type()"
      ],
      "outputs": [],
      "execution_count": 5,
      "metadata": {
        "id": "nyZLvQvpS3nr",
        "gather": {
          "logged": 1733503367786
        }
      }
    },
    {
      "cell_type": "code",
      "source": [
        "#Se hace un poco de Analisis Exploratorio\n",
        "data_final.describe()"
      ],
      "outputs": [
        {
          "output_type": "execute_result",
          "execution_count": 6,
          "data": {
            "text/plain": "       settlement_period  period_hour             nd            tsd  \\\ncount      277504.000000     277504.0  277504.000000  277504.000000   \nmean           24.497348          NaN   31186.527845   32683.966267   \nstd            13.852020          0.0    7835.788973    7603.465939   \nmin             1.000000          0.0   13367.000000   16513.000000   \n25%            12.000000          5.5   24905.000000   26604.000000   \n50%            24.000000         11.5   30487.000000   31797.000000   \n75%            36.000000         17.5   36913.000000   38110.000000   \nmax            48.000000         23.5   59095.000000   60147.000000   \n\n       england_wales_demand  embedded_wind_generation  \\\ncount         277504.000000             277504.000000   \nmean           28387.983135               1267.343332   \nstd             7095.347486                961.219826   \nmin                0.000000                  0.000000   \n25%            22673.000000                551.000000   \n50%            27746.000000               1015.000000   \n75%            33614.250000               1722.000000   \nmax            53325.000000               5587.000000   \n\n       embedded_solar_generation    non_bm_stor  pump_storage_pumping  \\\ncount              277504.000000  277504.000000         277504.000000   \nmean                  881.393681       6.692639            304.892906   \nstd                  1712.441492      39.266711            528.727730   \nmin                     0.000000     -24.000000              0.000000   \n25%                     0.000000       0.000000              8.000000   \n50%                     0.000000       0.000000             11.000000   \n75%                   891.000000       0.000000            366.000000   \nmax                 11224.000000     893.000000           2019.000000   \n\n            ifa_flow      ifa2_flow   britned_flow     moyle_flow  \\\ncount  277504.000000  277504.000000  277504.000000  277504.000000   \nmean      926.214487      52.144009     504.640679    -124.718083   \nstd      1069.590624     352.259884     541.342987     230.117887   \nmin     -2056.000000   -1030.000000   -1215.000000    -505.000000   \n25%       270.000000       0.000000       0.000000    -302.000000   \n50%      1187.000000       0.000000     727.000000    -148.000000   \n75%      1893.000000       0.000000     994.000000      26.000000   \nmax      2066.000000    1016.000000    1143.000000     499.000000   \n\n       east_west_flow      nemo_flow  \ncount   277504.000000  277504.000000  \nmean       -50.375126     175.323833  \nstd        262.934922     421.206578  \nmin       -585.000000   -1023.000000  \n25%       -207.000000       0.000000  \n50%          0.000000       0.000000  \n75%          0.000000     325.000000  \nmax        504.000000    1033.000000  ",
            "text/html": "<div>\n<style scoped>\n    .dataframe tbody tr th:only-of-type {\n        vertical-align: middle;\n    }\n\n    .dataframe tbody tr th {\n        vertical-align: top;\n    }\n\n    .dataframe thead th {\n        text-align: right;\n    }\n</style>\n<table border=\"1\" class=\"dataframe\">\n  <thead>\n    <tr style=\"text-align: right;\">\n      <th></th>\n      <th>settlement_period</th>\n      <th>period_hour</th>\n      <th>nd</th>\n      <th>tsd</th>\n      <th>england_wales_demand</th>\n      <th>embedded_wind_generation</th>\n      <th>embedded_solar_generation</th>\n      <th>non_bm_stor</th>\n      <th>pump_storage_pumping</th>\n      <th>ifa_flow</th>\n      <th>ifa2_flow</th>\n      <th>britned_flow</th>\n      <th>moyle_flow</th>\n      <th>east_west_flow</th>\n      <th>nemo_flow</th>\n    </tr>\n  </thead>\n  <tbody>\n    <tr>\n      <th>count</th>\n      <td>277504.000000</td>\n      <td>277504.0</td>\n      <td>277504.000000</td>\n      <td>277504.000000</td>\n      <td>277504.000000</td>\n      <td>277504.000000</td>\n      <td>277504.000000</td>\n      <td>277504.000000</td>\n      <td>277504.000000</td>\n      <td>277504.000000</td>\n      <td>277504.000000</td>\n      <td>277504.000000</td>\n      <td>277504.000000</td>\n      <td>277504.000000</td>\n      <td>277504.000000</td>\n    </tr>\n    <tr>\n      <th>mean</th>\n      <td>24.497348</td>\n      <td>NaN</td>\n      <td>31186.527845</td>\n      <td>32683.966267</td>\n      <td>28387.983135</td>\n      <td>1267.343332</td>\n      <td>881.393681</td>\n      <td>6.692639</td>\n      <td>304.892906</td>\n      <td>926.214487</td>\n      <td>52.144009</td>\n      <td>504.640679</td>\n      <td>-124.718083</td>\n      <td>-50.375126</td>\n      <td>175.323833</td>\n    </tr>\n    <tr>\n      <th>std</th>\n      <td>13.852020</td>\n      <td>0.0</td>\n      <td>7835.788973</td>\n      <td>7603.465939</td>\n      <td>7095.347486</td>\n      <td>961.219826</td>\n      <td>1712.441492</td>\n      <td>39.266711</td>\n      <td>528.727730</td>\n      <td>1069.590624</td>\n      <td>352.259884</td>\n      <td>541.342987</td>\n      <td>230.117887</td>\n      <td>262.934922</td>\n      <td>421.206578</td>\n    </tr>\n    <tr>\n      <th>min</th>\n      <td>1.000000</td>\n      <td>0.0</td>\n      <td>13367.000000</td>\n      <td>16513.000000</td>\n      <td>0.000000</td>\n      <td>0.000000</td>\n      <td>0.000000</td>\n      <td>-24.000000</td>\n      <td>0.000000</td>\n      <td>-2056.000000</td>\n      <td>-1030.000000</td>\n      <td>-1215.000000</td>\n      <td>-505.000000</td>\n      <td>-585.000000</td>\n      <td>-1023.000000</td>\n    </tr>\n    <tr>\n      <th>25%</th>\n      <td>12.000000</td>\n      <td>5.5</td>\n      <td>24905.000000</td>\n      <td>26604.000000</td>\n      <td>22673.000000</td>\n      <td>551.000000</td>\n      <td>0.000000</td>\n      <td>0.000000</td>\n      <td>8.000000</td>\n      <td>270.000000</td>\n      <td>0.000000</td>\n      <td>0.000000</td>\n      <td>-302.000000</td>\n      <td>-207.000000</td>\n      <td>0.000000</td>\n    </tr>\n    <tr>\n      <th>50%</th>\n      <td>24.000000</td>\n      <td>11.5</td>\n      <td>30487.000000</td>\n      <td>31797.000000</td>\n      <td>27746.000000</td>\n      <td>1015.000000</td>\n      <td>0.000000</td>\n      <td>0.000000</td>\n      <td>11.000000</td>\n      <td>1187.000000</td>\n      <td>0.000000</td>\n      <td>727.000000</td>\n      <td>-148.000000</td>\n      <td>0.000000</td>\n      <td>0.000000</td>\n    </tr>\n    <tr>\n      <th>75%</th>\n      <td>36.000000</td>\n      <td>17.5</td>\n      <td>36913.000000</td>\n      <td>38110.000000</td>\n      <td>33614.250000</td>\n      <td>1722.000000</td>\n      <td>891.000000</td>\n      <td>0.000000</td>\n      <td>366.000000</td>\n      <td>1893.000000</td>\n      <td>0.000000</td>\n      <td>994.000000</td>\n      <td>26.000000</td>\n      <td>0.000000</td>\n      <td>325.000000</td>\n    </tr>\n    <tr>\n      <th>max</th>\n      <td>48.000000</td>\n      <td>23.5</td>\n      <td>59095.000000</td>\n      <td>60147.000000</td>\n      <td>53325.000000</td>\n      <td>5587.000000</td>\n      <td>11224.000000</td>\n      <td>893.000000</td>\n      <td>2019.000000</td>\n      <td>2066.000000</td>\n      <td>1016.000000</td>\n      <td>1143.000000</td>\n      <td>499.000000</td>\n      <td>504.000000</td>\n      <td>1033.000000</td>\n    </tr>\n  </tbody>\n</table>\n</div>"
          },
          "metadata": {}
        }
      ],
      "execution_count": 6,
      "metadata": {
        "colab": {
          "base_uri": "https://localhost:8080/",
          "height": 407
        },
        "id": "SKXrPV7QQ9g9",
        "outputId": "01d1ee93-a8d5-44d7-f1cb-c15b9d6a25af",
        "gather": {
          "logged": 1733503373533
        }
      }
    },
    {
      "cell_type": "code",
      "source": [
        "data_final.info()"
      ],
      "outputs": [
        {
          "output_type": "stream",
          "name": "stdout",
          "text": "<class 'pandas.core.frame.DataFrame'>\nRangeIndex: 277504 entries, 0 to 277503\nData columns (total 17 columns):\n #   Column                     Non-Null Count   Dtype         \n---  ------                     --------------   -----         \n 0   settlement_date            277504 non-null  datetime64[ns]\n 1   settlement_period          277504 non-null  int8          \n 2   period_hour                277504 non-null  float16       \n 3   nd                         277504 non-null  uint16        \n 4   tsd                        277504 non-null  uint16        \n 5   england_wales_demand       277504 non-null  uint16        \n 6   embedded_wind_generation   277504 non-null  int16         \n 7   embedded_solar_generation  277504 non-null  int16         \n 8   non_bm_stor                277504 non-null  int16         \n 9   pump_storage_pumping       277504 non-null  int16         \n 10  ifa_flow                   277504 non-null  int16         \n 11  ifa2_flow                  277504 non-null  int16         \n 12  britned_flow               277504 non-null  int16         \n 13  moyle_flow                 277504 non-null  int16         \n 14  east_west_flow             277504 non-null  int16         \n 15  nemo_flow                  277504 non-null  int16         \n 16  is_holiday                 277504 non-null  bool          \ndtypes: bool(1), datetime64[ns](1), float16(1), int16(10), int8(1), uint16(3)\nmemory usage: 10.1 MB\n"
        }
      ],
      "execution_count": 7,
      "metadata": {
        "colab": {
          "base_uri": "https://localhost:8080/"
        },
        "id": "eM20U5H6UZ4q",
        "outputId": "440dcada-8f16-4b39-f4c7-a4f1dffdcc57",
        "gather": {
          "logged": 1733503375682
        }
      }
    },
    {
      "cell_type": "code",
      "source": [
        "data_final.head()"
      ],
      "outputs": [
        {
          "output_type": "execute_result",
          "execution_count": 8,
          "data": {
            "text/plain": "      settlement_date  settlement_period  period_hour     nd    tsd  \\\n0 2009-01-01 00:00:00                  1          0.0  37910  38704   \n1 2009-01-01 00:30:00                  2          0.5  38047  38964   \n2 2009-01-01 01:00:00                  3          1.0  37380  38651   \n3 2009-01-01 01:30:00                  4          1.5  36426  37775   \n4 2009-01-01 02:00:00                  5          2.0  35687  37298   \n\n   england_wales_demand  embedded_wind_generation  embedded_solar_generation  \\\n0                 33939                        54                          0   \n1                 34072                        53                          0   \n2                 33615                        53                          0   \n3                 32526                        50                          0   \n4                 31877                        50                          0   \n\n   non_bm_stor  pump_storage_pumping  ifa_flow  ifa2_flow  britned_flow  \\\n0            0                    33      2002          0             0   \n1            0                   157      2002          0             0   \n2            0                   511      2002          0             0   \n3            0                   589      1772          0             0   \n4            0                   851      1753          0             0   \n\n   moyle_flow  east_west_flow  nemo_flow  is_holiday  \n0        -161               0          0        True  \n1        -160               0          0        True  \n2        -160               0          0        True  \n3        -160               0          0        True  \n4        -160               0          0        True  ",
            "text/html": "<div>\n<style scoped>\n    .dataframe tbody tr th:only-of-type {\n        vertical-align: middle;\n    }\n\n    .dataframe tbody tr th {\n        vertical-align: top;\n    }\n\n    .dataframe thead th {\n        text-align: right;\n    }\n</style>\n<table border=\"1\" class=\"dataframe\">\n  <thead>\n    <tr style=\"text-align: right;\">\n      <th></th>\n      <th>settlement_date</th>\n      <th>settlement_period</th>\n      <th>period_hour</th>\n      <th>nd</th>\n      <th>tsd</th>\n      <th>england_wales_demand</th>\n      <th>embedded_wind_generation</th>\n      <th>embedded_solar_generation</th>\n      <th>non_bm_stor</th>\n      <th>pump_storage_pumping</th>\n      <th>ifa_flow</th>\n      <th>ifa2_flow</th>\n      <th>britned_flow</th>\n      <th>moyle_flow</th>\n      <th>east_west_flow</th>\n      <th>nemo_flow</th>\n      <th>is_holiday</th>\n    </tr>\n  </thead>\n  <tbody>\n    <tr>\n      <th>0</th>\n      <td>2009-01-01 00:00:00</td>\n      <td>1</td>\n      <td>0.0</td>\n      <td>37910</td>\n      <td>38704</td>\n      <td>33939</td>\n      <td>54</td>\n      <td>0</td>\n      <td>0</td>\n      <td>33</td>\n      <td>2002</td>\n      <td>0</td>\n      <td>0</td>\n      <td>-161</td>\n      <td>0</td>\n      <td>0</td>\n      <td>True</td>\n    </tr>\n    <tr>\n      <th>1</th>\n      <td>2009-01-01 00:30:00</td>\n      <td>2</td>\n      <td>0.5</td>\n      <td>38047</td>\n      <td>38964</td>\n      <td>34072</td>\n      <td>53</td>\n      <td>0</td>\n      <td>0</td>\n      <td>157</td>\n      <td>2002</td>\n      <td>0</td>\n      <td>0</td>\n      <td>-160</td>\n      <td>0</td>\n      <td>0</td>\n      <td>True</td>\n    </tr>\n    <tr>\n      <th>2</th>\n      <td>2009-01-01 01:00:00</td>\n      <td>3</td>\n      <td>1.0</td>\n      <td>37380</td>\n      <td>38651</td>\n      <td>33615</td>\n      <td>53</td>\n      <td>0</td>\n      <td>0</td>\n      <td>511</td>\n      <td>2002</td>\n      <td>0</td>\n      <td>0</td>\n      <td>-160</td>\n      <td>0</td>\n      <td>0</td>\n      <td>True</td>\n    </tr>\n    <tr>\n      <th>3</th>\n      <td>2009-01-01 01:30:00</td>\n      <td>4</td>\n      <td>1.5</td>\n      <td>36426</td>\n      <td>37775</td>\n      <td>32526</td>\n      <td>50</td>\n      <td>0</td>\n      <td>0</td>\n      <td>589</td>\n      <td>1772</td>\n      <td>0</td>\n      <td>0</td>\n      <td>-160</td>\n      <td>0</td>\n      <td>0</td>\n      <td>True</td>\n    </tr>\n    <tr>\n      <th>4</th>\n      <td>2009-01-01 02:00:00</td>\n      <td>5</td>\n      <td>2.0</td>\n      <td>35687</td>\n      <td>37298</td>\n      <td>31877</td>\n      <td>50</td>\n      <td>0</td>\n      <td>0</td>\n      <td>851</td>\n      <td>1753</td>\n      <td>0</td>\n      <td>0</td>\n      <td>-160</td>\n      <td>0</td>\n      <td>0</td>\n      <td>True</td>\n    </tr>\n  </tbody>\n</table>\n</div>"
          },
          "metadata": {}
        }
      ],
      "execution_count": 8,
      "metadata": {
        "colab": {
          "base_uri": "https://localhost:8080/",
          "height": 313
        },
        "id": "glpSudy9UeLZ",
        "outputId": "4a68afcf-b7dc-4d1d-b111-5f872992c631",
        "gather": {
          "logged": 1733503381141
        }
      }
    },
    {
      "cell_type": "code",
      "source": [
        "pd.options.display.max_rows=20\n",
        "data_final.corr()"
      ],
      "outputs": [
        {
          "output_type": "execute_result",
          "execution_count": 18,
          "data": {
            "text/plain": "                           settlement_period  period_hour        nd       tsd  \\\nsettlement_period                   1.000000     1.000000  0.420161  0.389427   \nperiod_hour                         1.000000     1.000000  0.420161  0.389427   \nnd                                  0.420161     0.420161  1.000000  0.992050   \ntsd                                 0.389427     0.389427  0.992050  1.000000   \nengland_wales_demand                0.422950     0.422950  0.998343  0.990968   \nembedded_wind_generation            0.039675     0.039675 -0.157873 -0.150501   \nembedded_solar_generation           0.067650     0.067650 -0.155251 -0.172877   \nnon_bm_stor                         0.043741     0.043741  0.147904  0.136094   \npump_storage_pumping               -0.608511    -0.608511 -0.457666 -0.411760   \nifa_flow                            0.090823     0.090823 -0.061599 -0.137031   \nifa2_flow                           0.041818     0.041818 -0.051882 -0.102040   \nbritned_flow                        0.116404     0.116404  0.095264  0.041005   \nmoyle_flow                         -0.200944    -0.200944 -0.276897 -0.286561   \neast_west_flow                     -0.179955    -0.179955 -0.165453 -0.173889   \nnemo_flow                           0.078651     0.078651 -0.106178 -0.153518   \nis_holiday                          0.000029     0.000029 -0.066291 -0.068704   \n\n                           england_wales_demand  embedded_wind_generation  \\\nsettlement_period                      0.422950                  0.039675   \nperiod_hour                            0.422950                  0.039675   \nnd                                     0.998343                 -0.157873   \ntsd                                    0.990968                 -0.150501   \nengland_wales_demand                   1.000000                 -0.130721   \nembedded_wind_generation              -0.130721                  1.000000   \nembedded_solar_generation             -0.161598                  0.164751   \nnon_bm_stor                            0.143656                 -0.015292   \npump_storage_pumping                  -0.462071                 -0.068593   \nifa_flow                              -0.066238                 -0.074205   \nifa2_flow                             -0.054399                 -0.018115   \nbritned_flow                           0.093098                 -0.009618   \nmoyle_flow                            -0.268078                  0.203343   \neast_west_flow                        -0.159897                  0.166842   \nnemo_flow                             -0.105661                  0.162825   \nis_holiday                            -0.071664                 -0.010704   \n\n                           embedded_solar_generation  non_bm_stor  \\\nsettlement_period                           0.067650     0.043741   \nperiod_hour                                 0.067650     0.043741   \nnd                                         -0.155251     0.147904   \ntsd                                        -0.172877     0.136094   \nengland_wales_demand                       -0.161598     0.143656   \nembedded_wind_generation                    0.164751    -0.015292   \nembedded_solar_generation                   1.000000     0.003801   \nnon_bm_stor                                 0.003801     1.000000   \npump_storage_pumping                       -0.259079    -0.093262   \nifa_flow                                    0.088117     0.052618   \nifa2_flow                                   0.118861    -0.025007   \nbritned_flow                                0.154085     0.076544   \nmoyle_flow                                 -0.103097    -0.011524   \neast_west_flow                             -0.208123    -0.035219   \nnemo_flow                                   0.239189    -0.057513   \nis_holiday                                  0.000132    -0.008328   \n\n                           pump_storage_pumping  ifa_flow  ifa2_flow  \\\nsettlement_period                     -0.608511  0.090823   0.041818   \nperiod_hour                           -0.608511  0.090823   0.041818   \nnd                                    -0.457666 -0.061599  -0.051882   \ntsd                                   -0.411760 -0.137031  -0.102040   \nengland_wales_demand                  -0.462071 -0.066238  -0.054399   \nembedded_wind_generation              -0.068593 -0.074205  -0.018115   \nembedded_solar_generation             -0.259079  0.088117   0.118861   \nnon_bm_stor                           -0.093262  0.052618  -0.025007   \npump_storage_pumping                   1.000000 -0.031566  -0.075665   \nifa_flow                              -0.031566  1.000000   0.286530   \nifa2_flow                             -0.075665  0.286530   1.000000   \nbritned_flow                          -0.025654  0.380132   0.108660   \nmoyle_flow                             0.209506 -0.040608  -0.220990   \neast_west_flow                         0.212732 -0.184594  -0.212191   \nnemo_flow                             -0.131457  0.220917   0.473911   \nis_holiday                            -0.002300  0.024376   0.003889   \n\n                           britned_flow  moyle_flow  east_west_flow  \\\nsettlement_period              0.116404   -0.200944       -0.179955   \nperiod_hour                    0.116404   -0.200944       -0.179955   \nnd                             0.095264   -0.276897       -0.165453   \ntsd                            0.041005   -0.286561       -0.173889   \nengland_wales_demand           0.093098   -0.268078       -0.159897   \nembedded_wind_generation      -0.009618    0.203343        0.166842   \nembedded_solar_generation      0.154085   -0.103097       -0.208123   \nnon_bm_stor                    0.076544   -0.011524       -0.035219   \npump_storage_pumping          -0.025654    0.209506        0.212732   \nifa_flow                       0.380132   -0.040608       -0.184594   \nifa2_flow                      0.108660   -0.220990       -0.212191   \nbritned_flow                   1.000000    0.041119       -0.113433   \nmoyle_flow                     0.041119    1.000000        0.594288   \neast_west_flow                -0.113433    0.594288        1.000000   \nnemo_flow                      0.271730   -0.108811       -0.101378   \nis_holiday                    -0.018330   -0.012192       -0.005628   \n\n                           nemo_flow  is_holiday  \nsettlement_period           0.078651    0.000029  \nperiod_hour                 0.078651    0.000029  \nnd                         -0.106178   -0.066291  \ntsd                        -0.153518   -0.068704  \nengland_wales_demand       -0.105661   -0.071664  \nembedded_wind_generation    0.162825   -0.010704  \nembedded_solar_generation   0.239189    0.000132  \nnon_bm_stor                -0.057513   -0.008328  \npump_storage_pumping       -0.131457   -0.002300  \nifa_flow                    0.220917    0.024376  \nifa2_flow                   0.473911    0.003889  \nbritned_flow                0.271730   -0.018330  \nmoyle_flow                 -0.108811   -0.012192  \neast_west_flow             -0.101378   -0.005628  \nnemo_flow                   1.000000   -0.001738  \nis_holiday                 -0.001738    1.000000  ",
            "text/html": "<div>\n<style scoped>\n    .dataframe tbody tr th:only-of-type {\n        vertical-align: middle;\n    }\n\n    .dataframe tbody tr th {\n        vertical-align: top;\n    }\n\n    .dataframe thead th {\n        text-align: right;\n    }\n</style>\n<table border=\"1\" class=\"dataframe\">\n  <thead>\n    <tr style=\"text-align: right;\">\n      <th></th>\n      <th>settlement_period</th>\n      <th>period_hour</th>\n      <th>nd</th>\n      <th>tsd</th>\n      <th>england_wales_demand</th>\n      <th>embedded_wind_generation</th>\n      <th>embedded_solar_generation</th>\n      <th>non_bm_stor</th>\n      <th>pump_storage_pumping</th>\n      <th>ifa_flow</th>\n      <th>ifa2_flow</th>\n      <th>britned_flow</th>\n      <th>moyle_flow</th>\n      <th>east_west_flow</th>\n      <th>nemo_flow</th>\n      <th>is_holiday</th>\n    </tr>\n  </thead>\n  <tbody>\n    <tr>\n      <th>settlement_period</th>\n      <td>1.000000</td>\n      <td>1.000000</td>\n      <td>0.420161</td>\n      <td>0.389427</td>\n      <td>0.422950</td>\n      <td>0.039675</td>\n      <td>0.067650</td>\n      <td>0.043741</td>\n      <td>-0.608511</td>\n      <td>0.090823</td>\n      <td>0.041818</td>\n      <td>0.116404</td>\n      <td>-0.200944</td>\n      <td>-0.179955</td>\n      <td>0.078651</td>\n      <td>0.000029</td>\n    </tr>\n    <tr>\n      <th>period_hour</th>\n      <td>1.000000</td>\n      <td>1.000000</td>\n      <td>0.420161</td>\n      <td>0.389427</td>\n      <td>0.422950</td>\n      <td>0.039675</td>\n      <td>0.067650</td>\n      <td>0.043741</td>\n      <td>-0.608511</td>\n      <td>0.090823</td>\n      <td>0.041818</td>\n      <td>0.116404</td>\n      <td>-0.200944</td>\n      <td>-0.179955</td>\n      <td>0.078651</td>\n      <td>0.000029</td>\n    </tr>\n    <tr>\n      <th>nd</th>\n      <td>0.420161</td>\n      <td>0.420161</td>\n      <td>1.000000</td>\n      <td>0.992050</td>\n      <td>0.998343</td>\n      <td>-0.157873</td>\n      <td>-0.155251</td>\n      <td>0.147904</td>\n      <td>-0.457666</td>\n      <td>-0.061599</td>\n      <td>-0.051882</td>\n      <td>0.095264</td>\n      <td>-0.276897</td>\n      <td>-0.165453</td>\n      <td>-0.106178</td>\n      <td>-0.066291</td>\n    </tr>\n    <tr>\n      <th>tsd</th>\n      <td>0.389427</td>\n      <td>0.389427</td>\n      <td>0.992050</td>\n      <td>1.000000</td>\n      <td>0.990968</td>\n      <td>-0.150501</td>\n      <td>-0.172877</td>\n      <td>0.136094</td>\n      <td>-0.411760</td>\n      <td>-0.137031</td>\n      <td>-0.102040</td>\n      <td>0.041005</td>\n      <td>-0.286561</td>\n      <td>-0.173889</td>\n      <td>-0.153518</td>\n      <td>-0.068704</td>\n    </tr>\n    <tr>\n      <th>england_wales_demand</th>\n      <td>0.422950</td>\n      <td>0.422950</td>\n      <td>0.998343</td>\n      <td>0.990968</td>\n      <td>1.000000</td>\n      <td>-0.130721</td>\n      <td>-0.161598</td>\n      <td>0.143656</td>\n      <td>-0.462071</td>\n      <td>-0.066238</td>\n      <td>-0.054399</td>\n      <td>0.093098</td>\n      <td>-0.268078</td>\n      <td>-0.159897</td>\n      <td>-0.105661</td>\n      <td>-0.071664</td>\n    </tr>\n    <tr>\n      <th>embedded_wind_generation</th>\n      <td>0.039675</td>\n      <td>0.039675</td>\n      <td>-0.157873</td>\n      <td>-0.150501</td>\n      <td>-0.130721</td>\n      <td>1.000000</td>\n      <td>0.164751</td>\n      <td>-0.015292</td>\n      <td>-0.068593</td>\n      <td>-0.074205</td>\n      <td>-0.018115</td>\n      <td>-0.009618</td>\n      <td>0.203343</td>\n      <td>0.166842</td>\n      <td>0.162825</td>\n      <td>-0.010704</td>\n    </tr>\n    <tr>\n      <th>embedded_solar_generation</th>\n      <td>0.067650</td>\n      <td>0.067650</td>\n      <td>-0.155251</td>\n      <td>-0.172877</td>\n      <td>-0.161598</td>\n      <td>0.164751</td>\n      <td>1.000000</td>\n      <td>0.003801</td>\n      <td>-0.259079</td>\n      <td>0.088117</td>\n      <td>0.118861</td>\n      <td>0.154085</td>\n      <td>-0.103097</td>\n      <td>-0.208123</td>\n      <td>0.239189</td>\n      <td>0.000132</td>\n    </tr>\n    <tr>\n      <th>non_bm_stor</th>\n      <td>0.043741</td>\n      <td>0.043741</td>\n      <td>0.147904</td>\n      <td>0.136094</td>\n      <td>0.143656</td>\n      <td>-0.015292</td>\n      <td>0.003801</td>\n      <td>1.000000</td>\n      <td>-0.093262</td>\n      <td>0.052618</td>\n      <td>-0.025007</td>\n      <td>0.076544</td>\n      <td>-0.011524</td>\n      <td>-0.035219</td>\n      <td>-0.057513</td>\n      <td>-0.008328</td>\n    </tr>\n    <tr>\n      <th>pump_storage_pumping</th>\n      <td>-0.608511</td>\n      <td>-0.608511</td>\n      <td>-0.457666</td>\n      <td>-0.411760</td>\n      <td>-0.462071</td>\n      <td>-0.068593</td>\n      <td>-0.259079</td>\n      <td>-0.093262</td>\n      <td>1.000000</td>\n      <td>-0.031566</td>\n      <td>-0.075665</td>\n      <td>-0.025654</td>\n      <td>0.209506</td>\n      <td>0.212732</td>\n      <td>-0.131457</td>\n      <td>-0.002300</td>\n    </tr>\n    <tr>\n      <th>ifa_flow</th>\n      <td>0.090823</td>\n      <td>0.090823</td>\n      <td>-0.061599</td>\n      <td>-0.137031</td>\n      <td>-0.066238</td>\n      <td>-0.074205</td>\n      <td>0.088117</td>\n      <td>0.052618</td>\n      <td>-0.031566</td>\n      <td>1.000000</td>\n      <td>0.286530</td>\n      <td>0.380132</td>\n      <td>-0.040608</td>\n      <td>-0.184594</td>\n      <td>0.220917</td>\n      <td>0.024376</td>\n    </tr>\n    <tr>\n      <th>ifa2_flow</th>\n      <td>0.041818</td>\n      <td>0.041818</td>\n      <td>-0.051882</td>\n      <td>-0.102040</td>\n      <td>-0.054399</td>\n      <td>-0.018115</td>\n      <td>0.118861</td>\n      <td>-0.025007</td>\n      <td>-0.075665</td>\n      <td>0.286530</td>\n      <td>1.000000</td>\n      <td>0.108660</td>\n      <td>-0.220990</td>\n      <td>-0.212191</td>\n      <td>0.473911</td>\n      <td>0.003889</td>\n    </tr>\n    <tr>\n      <th>britned_flow</th>\n      <td>0.116404</td>\n      <td>0.116404</td>\n      <td>0.095264</td>\n      <td>0.041005</td>\n      <td>0.093098</td>\n      <td>-0.009618</td>\n      <td>0.154085</td>\n      <td>0.076544</td>\n      <td>-0.025654</td>\n      <td>0.380132</td>\n      <td>0.108660</td>\n      <td>1.000000</td>\n      <td>0.041119</td>\n      <td>-0.113433</td>\n      <td>0.271730</td>\n      <td>-0.018330</td>\n    </tr>\n    <tr>\n      <th>moyle_flow</th>\n      <td>-0.200944</td>\n      <td>-0.200944</td>\n      <td>-0.276897</td>\n      <td>-0.286561</td>\n      <td>-0.268078</td>\n      <td>0.203343</td>\n      <td>-0.103097</td>\n      <td>-0.011524</td>\n      <td>0.209506</td>\n      <td>-0.040608</td>\n      <td>-0.220990</td>\n      <td>0.041119</td>\n      <td>1.000000</td>\n      <td>0.594288</td>\n      <td>-0.108811</td>\n      <td>-0.012192</td>\n    </tr>\n    <tr>\n      <th>east_west_flow</th>\n      <td>-0.179955</td>\n      <td>-0.179955</td>\n      <td>-0.165453</td>\n      <td>-0.173889</td>\n      <td>-0.159897</td>\n      <td>0.166842</td>\n      <td>-0.208123</td>\n      <td>-0.035219</td>\n      <td>0.212732</td>\n      <td>-0.184594</td>\n      <td>-0.212191</td>\n      <td>-0.113433</td>\n      <td>0.594288</td>\n      <td>1.000000</td>\n      <td>-0.101378</td>\n      <td>-0.005628</td>\n    </tr>\n    <tr>\n      <th>nemo_flow</th>\n      <td>0.078651</td>\n      <td>0.078651</td>\n      <td>-0.106178</td>\n      <td>-0.153518</td>\n      <td>-0.105661</td>\n      <td>0.162825</td>\n      <td>0.239189</td>\n      <td>-0.057513</td>\n      <td>-0.131457</td>\n      <td>0.220917</td>\n      <td>0.473911</td>\n      <td>0.271730</td>\n      <td>-0.108811</td>\n      <td>-0.101378</td>\n      <td>1.000000</td>\n      <td>-0.001738</td>\n    </tr>\n    <tr>\n      <th>is_holiday</th>\n      <td>0.000029</td>\n      <td>0.000029</td>\n      <td>-0.066291</td>\n      <td>-0.068704</td>\n      <td>-0.071664</td>\n      <td>-0.010704</td>\n      <td>0.000132</td>\n      <td>-0.008328</td>\n      <td>-0.002300</td>\n      <td>0.024376</td>\n      <td>0.003889</td>\n      <td>-0.018330</td>\n      <td>-0.012192</td>\n      <td>-0.005628</td>\n      <td>-0.001738</td>\n      <td>1.000000</td>\n    </tr>\n  </tbody>\n</table>\n</div>"
          },
          "metadata": {}
        }
      ],
      "execution_count": 18,
      "metadata": {
        "colab": {
          "base_uri": "https://localhost:8080/",
          "height": 571
        },
        "id": "K0ZqGxodBmaD",
        "outputId": "c512ecb1-10dc-43f8-9d90-3ace375f809a",
        "gather": {
          "logged": 1733478332988
        }
      }
    },
    {
      "cell_type": "code",
      "source": [
        "data_final.isna().sum()"
      ],
      "outputs": [
        {
          "output_type": "execute_result",
          "execution_count": 9,
          "data": {
            "text/plain": "settlement_date              0\nsettlement_period            0\nperiod_hour                  0\nnd                           0\ntsd                          0\nengland_wales_demand         0\nembedded_wind_generation     0\nembedded_solar_generation    0\nnon_bm_stor                  0\npump_storage_pumping         0\nifa_flow                     0\nifa2_flow                    0\nbritned_flow                 0\nmoyle_flow                   0\neast_west_flow               0\nnemo_flow                    0\nis_holiday                   0\ndtype: int64"
          },
          "metadata": {}
        }
      ],
      "execution_count": 9,
      "metadata": {
        "colab": {
          "base_uri": "https://localhost:8080/",
          "height": 617
        },
        "id": "zsCRc28FZ0Sx",
        "outputId": "dac1e3c8-89de-4dc3-b760-7356dfa6116e",
        "gather": {
          "logged": 1733503387648
        }
      }
    },
    {
      "cell_type": "code",
      "source": [
        "data_final = data_final.set_index('settlement_date')\n",
        "data_final = data_final.sort_index()\n",
        "data_final.head()"
      ],
      "outputs": [
        {
          "output_type": "execute_result",
          "execution_count": 10,
          "data": {
            "text/plain": "                     settlement_period  period_hour     nd    tsd  \\\nsettlement_date                                                     \n2009-01-01 00:00:00                  1          0.0  37910  38704   \n2009-01-01 00:30:00                  2          0.5  38047  38964   \n2009-01-01 01:00:00                  3          1.0  37380  38651   \n2009-01-01 01:30:00                  4          1.5  36426  37775   \n2009-01-01 02:00:00                  5          2.0  35687  37298   \n\n                     england_wales_demand  embedded_wind_generation  \\\nsettlement_date                                                       \n2009-01-01 00:00:00                 33939                        54   \n2009-01-01 00:30:00                 34072                        53   \n2009-01-01 01:00:00                 33615                        53   \n2009-01-01 01:30:00                 32526                        50   \n2009-01-01 02:00:00                 31877                        50   \n\n                     embedded_solar_generation  non_bm_stor  \\\nsettlement_date                                               \n2009-01-01 00:00:00                          0            0   \n2009-01-01 00:30:00                          0            0   \n2009-01-01 01:00:00                          0            0   \n2009-01-01 01:30:00                          0            0   \n2009-01-01 02:00:00                          0            0   \n\n                     pump_storage_pumping  ifa_flow  ifa2_flow  britned_flow  \\\nsettlement_date                                                                \n2009-01-01 00:00:00                    33      2002          0             0   \n2009-01-01 00:30:00                   157      2002          0             0   \n2009-01-01 01:00:00                   511      2002          0             0   \n2009-01-01 01:30:00                   589      1772          0             0   \n2009-01-01 02:00:00                   851      1753          0             0   \n\n                     moyle_flow  east_west_flow  nemo_flow  is_holiday  \nsettlement_date                                                         \n2009-01-01 00:00:00        -161               0          0        True  \n2009-01-01 00:30:00        -160               0          0        True  \n2009-01-01 01:00:00        -160               0          0        True  \n2009-01-01 01:30:00        -160               0          0        True  \n2009-01-01 02:00:00        -160               0          0        True  ",
            "text/html": "<div>\n<style scoped>\n    .dataframe tbody tr th:only-of-type {\n        vertical-align: middle;\n    }\n\n    .dataframe tbody tr th {\n        vertical-align: top;\n    }\n\n    .dataframe thead th {\n        text-align: right;\n    }\n</style>\n<table border=\"1\" class=\"dataframe\">\n  <thead>\n    <tr style=\"text-align: right;\">\n      <th></th>\n      <th>settlement_period</th>\n      <th>period_hour</th>\n      <th>nd</th>\n      <th>tsd</th>\n      <th>england_wales_demand</th>\n      <th>embedded_wind_generation</th>\n      <th>embedded_solar_generation</th>\n      <th>non_bm_stor</th>\n      <th>pump_storage_pumping</th>\n      <th>ifa_flow</th>\n      <th>ifa2_flow</th>\n      <th>britned_flow</th>\n      <th>moyle_flow</th>\n      <th>east_west_flow</th>\n      <th>nemo_flow</th>\n      <th>is_holiday</th>\n    </tr>\n    <tr>\n      <th>settlement_date</th>\n      <th></th>\n      <th></th>\n      <th></th>\n      <th></th>\n      <th></th>\n      <th></th>\n      <th></th>\n      <th></th>\n      <th></th>\n      <th></th>\n      <th></th>\n      <th></th>\n      <th></th>\n      <th></th>\n      <th></th>\n      <th></th>\n    </tr>\n  </thead>\n  <tbody>\n    <tr>\n      <th>2009-01-01 00:00:00</th>\n      <td>1</td>\n      <td>0.0</td>\n      <td>37910</td>\n      <td>38704</td>\n      <td>33939</td>\n      <td>54</td>\n      <td>0</td>\n      <td>0</td>\n      <td>33</td>\n      <td>2002</td>\n      <td>0</td>\n      <td>0</td>\n      <td>-161</td>\n      <td>0</td>\n      <td>0</td>\n      <td>True</td>\n    </tr>\n    <tr>\n      <th>2009-01-01 00:30:00</th>\n      <td>2</td>\n      <td>0.5</td>\n      <td>38047</td>\n      <td>38964</td>\n      <td>34072</td>\n      <td>53</td>\n      <td>0</td>\n      <td>0</td>\n      <td>157</td>\n      <td>2002</td>\n      <td>0</td>\n      <td>0</td>\n      <td>-160</td>\n      <td>0</td>\n      <td>0</td>\n      <td>True</td>\n    </tr>\n    <tr>\n      <th>2009-01-01 01:00:00</th>\n      <td>3</td>\n      <td>1.0</td>\n      <td>37380</td>\n      <td>38651</td>\n      <td>33615</td>\n      <td>53</td>\n      <td>0</td>\n      <td>0</td>\n      <td>511</td>\n      <td>2002</td>\n      <td>0</td>\n      <td>0</td>\n      <td>-160</td>\n      <td>0</td>\n      <td>0</td>\n      <td>True</td>\n    </tr>\n    <tr>\n      <th>2009-01-01 01:30:00</th>\n      <td>4</td>\n      <td>1.5</td>\n      <td>36426</td>\n      <td>37775</td>\n      <td>32526</td>\n      <td>50</td>\n      <td>0</td>\n      <td>0</td>\n      <td>589</td>\n      <td>1772</td>\n      <td>0</td>\n      <td>0</td>\n      <td>-160</td>\n      <td>0</td>\n      <td>0</td>\n      <td>True</td>\n    </tr>\n    <tr>\n      <th>2009-01-01 02:00:00</th>\n      <td>5</td>\n      <td>2.0</td>\n      <td>35687</td>\n      <td>37298</td>\n      <td>31877</td>\n      <td>50</td>\n      <td>0</td>\n      <td>0</td>\n      <td>851</td>\n      <td>1753</td>\n      <td>0</td>\n      <td>0</td>\n      <td>-160</td>\n      <td>0</td>\n      <td>0</td>\n      <td>True</td>\n    </tr>\n  </tbody>\n</table>\n</div>"
          },
          "metadata": {}
        }
      ],
      "execution_count": 10,
      "metadata": {
        "id": "5b_AB1JldErJ",
        "gather": {
          "logged": 1733503394065
        }
      }
    },
    {
      "cell_type": "code",
      "source": [
        "# Asegurandose de que los datos estén ordenados por fecha\n",
        "data = data_final.drop([\"embedded_solar_generation\",\"embedded_wind_generation\",\"ifa_flow\",\"ifa2_flow\",\"pump_storage_pumping\" ,\"britned_flow\", \"nemo_flow\", \"is_holiday\",\"moyle_flow\", \"east_west_flow\"], axis=1)\n",
        "data = data.sort_index()\n",
        "\n",
        "# Se seleccionan la variable objetivo y las características\n",
        "target_column = 'nd'  # Variable objetivo\n",
        "features = data.columns.tolist()\n",
        "\n",
        "# Escalado de los datos\n",
        "scaler = MinMaxScaler()\n",
        "data_scaled = scaler.fit_transform(data)\n",
        "\n",
        "\n",
        "# Creación de ventanas de tiempo (secuencias)\n",
        "def create_sequences(data, target_index, window_size):\n",
        "    X, y = [], []\n",
        "    for i in range(len(data) - window_size):\n",
        "        X.append(data[i:i + window_size])\n",
        "        y.append(data[i + window_size, target_index])\n",
        "    return np.array(X), np.array(y)\n",
        "\n",
        "# Parámetros de la ventana de tiempo\n",
        "window_size = 48  # Predicciones basadas en las últimas 48 horas (dos días)\n",
        "target_index = features.index(target_column)  # Índice de la variable objetivo\n",
        "\n",
        "# Crear conjuntos de datos para entrenamiento y prueba\n",
        "train_size = int(len(data_scaled) * 0.8)\n",
        "train_data = data_scaled[:train_size]\n",
        "test_data = data_scaled[train_size:]\n",
        "\n",
        "X_train, y_train = create_sequences(train_data, target_index, window_size)\n",
        "X_test, y_test = create_sequences(test_data, target_index, window_size)"
      ],
      "outputs": [],
      "execution_count": 11,
      "metadata": {
        "id": "6-ZZip92c1Ra",
        "gather": {
          "logged": 1733503403781
        }
      }
    },
    {
      "cell_type": "code",
      "source": [
        "#Guardo el Scaler\n",
        "joblib.dump(scaler, \"scaler.pkl\")"
      ],
      "outputs": [
        {
          "output_type": "execute_result",
          "execution_count": 12,
          "data": {
            "text/plain": "['scaler.pkl']"
          },
          "metadata": {}
        }
      ],
      "execution_count": 12,
      "metadata": {
        "jupyter": {
          "source_hidden": false,
          "outputs_hidden": false
        },
        "nteract": {
          "transient": {
            "deleting": false
          }
        },
        "gather": {
          "logged": 1733503410907
        }
      }
    },
    {
      "cell_type": "code",
      "source": [
        "#Configuro el Experimento en MLFLow\n",
        "mlflow.set_tracking_uri(\"http://127.0.0.1:5000\")\n",
        "mlflow.set_experiment(\"mlflow-tensorflow-uk-energy\")"
      ],
      "outputs": [
        {
          "output_type": "execute_result",
          "execution_count": 13,
          "data": {
            "text/plain": "<Experiment: artifact_location='mlflow-artifacts:/177021876993424057', creation_time=1733479229894, experiment_id='177021876993424057', last_update_time=1733479229894, lifecycle_stage='active', name='mlflow-tensorflow-uk-energy', tags={}>"
          },
          "metadata": {}
        }
      ],
      "execution_count": 13,
      "metadata": {
        "jupyter": {
          "source_hidden": false,
          "outputs_hidden": false
        },
        "nteract": {
          "transient": {
            "deleting": false
          }
        },
        "gather": {
          "logged": 1733503414519
        }
      }
    },
    {
      "cell_type": "code",
      "source": [
        "# Configuro el nombre único del run\n",
        "name = \"tensorflow_series_UK_energy\" + datetime.now().strftime(\"%Y-%m-%d_%H:%M:%S\")\n",
        "\n",
        "# Inicio del experimento en MLFlow\n",
        "with mlflow.start_run(run_name=name) as run:\n",
        "    \n",
        "    # Registro hiperparámetros\n",
        "    mlflow.log_param(\"model_type\", \"LSTM\")\n",
        "    mlflow.log_param(\"units\", 50)\n",
        "    mlflow.log_param(\"activation\", \"relu\")\n",
        "    mlflow.log_param(\"optimizer\", \"adam\")\n",
        "    mlflow.log_param(\"loss\", \"mae\")\n",
        "    mlflow.log_param(\"batch_size\", 32)\n",
        "    mlflow.log_param(\"epochs\", 25)\n",
        "\n",
        "    # Definir y entrenar la RNN\n",
        "    model = Sequential([\n",
        "        LSTM(50, activation='relu', input_shape=(X_train.shape[1], X_train.shape[2]), return_sequences=False),\n",
        "        Dense(1)\n",
        "    ])\n",
        "\n",
        "    model.compile(optimizer='adam', loss='mae', metrics=[\"accuracy\", \"mse\"])\n",
        "\n",
        "    # Early stopping para evitar sobreajuste\n",
        "    early_stopping = EarlyStopping(monitor='val_loss', patience=5, restore_best_weights=True)\n",
        "\n",
        "    # Entrenamiento del modelo\n",
        "    history = model.fit(\n",
        "        X_train, y_train,\n",
        "        validation_split=0.2,\n",
        "        epochs=25,\n",
        "        batch_size=32,\n",
        "        callbacks=[early_stopping,mlflowKeras.MlflowCallback()],\n",
        "       verbose=1\n",
        "    )\n",
        "\n",
        "    # Registra métricas (últimos valores)\n",
        "    mlflow.log_metric(\"final_loss\", history.history['loss'][-1])\n",
        "    mlflow.log_metric(\"final_val_loss\", history.history['val_loss'][-1])\n",
        "    mlflow.log_metric(\"final_accuracy\", history.history['accuracy'][-1])\n",
        "    mlflow.log_metric(\"final_val_accuracy\", history.history['val_accuracy'][-1])\n",
        "\n",
        "    # Definir las columnas de entrada para la predicción\n",
        "    input_schema = Schema([\n",
        "        TensorSpec(np.dtype(np.int16),(-1,), name=\"settlement_period\"),  # int8 → integer\n",
        "        TensorSpec(np.dtype(np.float16),(-1,), name=\"period_hour\"),         # float16 → float\n",
        "        TensorSpec(np.dtype(np.uint16),(-1,), name=\"tsd\"),               # uint16 → integer\n",
        "        TensorSpec(np.dtype(np.int16),(-1,), name=\"england_wales_demand\"),  # uint16 → integer\n",
        "        TensorSpec(np.dtype(np.int16),(-1,), name=\"non_bm_stor\"),       # int16 → integer\n",
        "    ])\n",
        "\n",
        "    # Definir las columnas de salida\n",
        "    output_schema = Schema([\n",
        "        TensorSpec(np.dtype(np.float32), (-1,), name=\"nd\")\n",
        "    ])\n",
        "\n",
        "    # Crear la firma del modelo\n",
        "    signature = ModelSignature(inputs=input_schema, outputs=output_schema)\n",
        "\n",
        "    # Grafico las métricas de pérdida\n",
        "    plt.figure(figsize=(10, 6))\n",
        "    plt.plot(history.history['loss'], label='Train Loss')\n",
        "    plt.plot(history.history['val_loss'], label='Validation Loss')\n",
        "    plt.xlabel('Epochs')\n",
        "    plt.ylabel('Loss')\n",
        "    plt.legend()\n",
        "    plt.grid()\n",
        "    plt.title(\"Training and Validation Loss\")\n",
        "    plt.savefig(\"training_validation_loss.png\")\n",
        "    plt.close()\n",
        "\n",
        "    # Registrando el gráfico de perdida como un artefacto\n",
        "    mlflow.log_artifact(\"training_validation_loss.png\")\n",
        "    mlflow.log_artifact(\"scaler.pkl\")"
      ],
      "outputs": [
        {
          "output_type": "stream",
          "name": "stdout",
          "text": "🏃 View run tensorflow_series_UK_energy2024-12-06_17:09:49 at: http://127.0.0.1:5000/#/experiments/177021876993424057/runs/f894768384354413944cec0aceeaf022\n🧪 View experiment at: http://127.0.0.1:5000/#/experiments/177021876993424057\n"
        }
      ],
      "execution_count": 15,
      "metadata": {
        "jupyter": {
          "source_hidden": false,
          "outputs_hidden": false
        },
        "nteract": {
          "transient": {
            "deleting": false
          }
        },
        "gather": {
          "logged": 1733504992759
        }
      }
    },
    {
      "cell_type": "code",
      "source": [
        "#Evaluación del modelo\n",
        "# Predecir valores\n",
        "y_pred = model.predict(X_test)\n",
        "\n",
        "# Invertir la escala de los datos para interpretar los resultados\n",
        "y_test_original = scaler.inverse_transform(np.hstack([np.zeros((len(y_test), data.shape[1] - 1)), y_test.reshape(-1, 1)]))[:, -1]\n",
        "y_pred_original = scaler.inverse_transform(np.hstack([np.zeros((len(y_pred), data.shape[1] - 1)), y_pred]))[:, -1]\n",
        "\n",
        "# Métricas de evaluación\n",
        "rmse = np.sqrt(mean_squared_error(y_test_original, y_pred_original))\n",
        "mae = mean_absolute_error(y_test_original, y_pred_original)\n",
        "r2 = r2_score(y_test_original, y_pred_original)\n",
        "\n",
        "print(f\"RMSE: {rmse:.2f} MW\")\n",
        "print(f\"MAE: {mae:.2f} MW\")\n",
        "print(f\"R²: {r2:.2f}\")\n",
        "\n",
        "# Graficar resultados\n",
        "plt.figure(figsize=(12, 6))\n",
        "plt.plot(y_test_original, label='Consumo real')\n",
        "plt.plot(y_pred_original, label='Predicción', alpha=0.7)\n",
        "plt.legend()\n",
        "plt.title('Predicción de Consumo Energético del Reino Unido')\n",
        "plt.xlabel('Tiempo')\n",
        "plt.ylabel('Consumo (MW)')\n",
        "plt.show()"
      ],
      "outputs": [
        {
          "output_type": "stream",
          "name": "stdout",
          "text": "\u001b[1m1733/1733\u001b[0m \u001b[32m━━━━━━━━━━━━━━━━━━━━\u001b[0m\u001b[37m\u001b[0m \u001b[1m8s\u001b[0m 4ms/step\b\b\b\b\b\b\b\b\b\b\b\b\b\b\b\b\b\b\b\b\b\b\b\b\b\b\b\b\b\b\b\b\b\b\b\b\b\b\b\b\b\b\nRMSE: 6.44 MW\nMAE: 4.99 MW\nR²: 1.00\n"
        },
        {
          "output_type": "display_data",
          "data": {
            "text/plain": "<Figure size 1200x600 with 1 Axes>",
            "image/png": "[encoded data removed]"
          },
          "metadata": {}
        }
      ],
      "execution_count": 16,
      "metadata": {
        "colab": {
          "base_uri": "https://localhost:8080/",
          "height": 634
        },
        "id": "qlPdkgaTdrIp",
        "outputId": "8b535943-a228-45a3-cc0f-48e0375f830c",
        "gather": {
          "logged": 1733505008925
        }
      }
    },
    {
      "cell_type": "code",
      "source": [
        "!conda env export > environment.yml"
      ],
      "outputs": [],
      "execution_count": 31,
      "metadata": {
        "jupyter": {
          "source_hidden": false,
          "outputs_hidden": false
        },
        "nteract": {
          "transient": {
            "deleting": false
          }
        }
      }
    },
    {
      "cell_type": "code",
      "source": [
        "!pip freeze > \"./requirements.txt\""
      ],
      "outputs": [],
      "execution_count": 17,
      "metadata": {
        "jupyter": {
          "source_hidden": false,
          "outputs_hidden": false
        },
        "nteract": {
          "transient": {
            "deleting": false
          }
        }
      }
    },
    {
      "cell_type": "code",
      "source": [
        "env = {\n",
        "  \"name\": \"uk-energy-enviroment\",\n",
        "  \"channels\": [\n",
        "    \"conda-forge\",\n",
        "    \"defaults\"\n",
        "  ],\n",
        "  \"dependencies\": [\n",
        "    \"conda-forge::ncurses\",\n",
        "    \"_libgcc_mutex=0.1=conda_forge\",\n",
        "    \"_openmp_mutex=4.5=2_gnu\",\n",
        "    \"anaconda-anon-usage=0.4.4=py312hfc0e8ea_100\",\n",
        "    \"archspec=0.2.3=pyhd3eb1b0_0\",\n",
        "    \"boltons=23.0.0=py312h06a4308_0\",\n",
        "    \"brotli-python=1.0.9=py312h6a678d5_8\",\n",
        "    \"bzip2=1.0.8=h5eee18b_6\",\n",
        "    \"c-ares=1.19.1=h5eee18b_0\",\n",
        "    \"ca-certificates=2024.8.30=hbcca054_0\",\n",
        "    \"certifi=2024.8.30=pyhd8ed1ab_0\",\n",
        "    \"cffi=1.16.0=py312h5eee18b_1\",\n",
        "    \"charset-normalizer=3.3.2=pyhd3eb1b0_0\",\n",
        "    \"conda=24.7.1=py312h7900ff3_0\",\n",
        "    \"conda-content-trust=0.2.0=py312h06a4308_1\",\n",
        "    \"conda-libmamba-solver=24.7.0=pyhd3eb1b0_0\",\n",
        "    \"conda-package-handling=2.3.0=py312h06a4308_0\",\n",
        "    \"conda-package-streaming=0.10.0=py312h06a4308_0\",\n",
        "    \"cryptography=42.0.5=py312hdda0065_1\",\n",
        "    \"distro=1.9.0=py312h06a4308_0\",\n",
        "    \"expat=2.6.2=h6a678d5_0\",\n",
        "    \"fmt=9.1.0=hdb19cb5_1\",\n",
        "    \"frozendict=2.4.2=py312h06a4308_0\",\n",
        "    \"icu=73.1=h6a678d5_0\",\n",
        "    \"idna=3.7=py312h06a4308_0\",\n",
        "    \"jsonpatch=1.33=py312h06a4308_1\",\n",
        "    \"jsonpointer=2.1=pyhd3eb1b0_0\",\n",
        "    \"krb5=1.20.1=h143b758_1\",\n",
        "    \"ld_impl_linux-64=2.38=h1181459_1\",\n",
        "    \"libarchive=3.6.2=hfab0078_4\",\n",
        "    \"libcurl=8.7.1=h251f7ec_0\",\n",
        "    \"libedit=3.1.20230828=h5eee18b_0\",\n",
        "    \"libev=4.33=h7f8727e_1\",\n",
        "    \"libexpat=2.6.2=h59595ed_0\",\n",
        "    \"libffi=3.4.4=h6a678d5_1\",\n",
        "    \"libgcc=14.1.0=h77fa898_1\",\n",
        "    \"libgcc-ng=14.1.0=h69a702a_1\",\n",
        "    \"libgomp=14.1.0=h77fa898_1\",\n",
        "    \"libmamba=1.5.8=hfe524e5_2\",\n",
        "    \"libmambapy=1.5.8=py312h2dafd23_2\",\n",
        "    \"libnghttp2=1.57.0=h2d74bed_0\",\n",
        "    \"libnsl=2.0.1=hd590300_0\",\n",
        "    \"libsolv=0.7.24=he621ea3_1\",\n",
        "    \"libsqlite=3.46.0=hde9e2c9_0\",\n",
        "    \"libssh2=1.11.0=h251f7ec_0\",\n",
        "    \"libstdcxx-ng=11.2.0=h1234567_1\",\n",
        "    \"libuuid=2.38.1=h0b41bf4_0\",\n",
        "    \"libxcrypt=4.4.36=hd590300_1\",\n",
        "    \"libxml2=2.13.1=hfdd30dd_2\",\n",
        "    \"libzlib=1.2.13=h4ab18f5_6\",\n",
        "    \"lz4-c=1.9.4=h6a678d5_1\",\n",
        "    \"menuinst=2.1.2=py312h06a4308_0\",\n",
        "    \"ncurses=6.4=h6a678d5_0\",\n",
        "    \"openssl=3.3.2=hb9d3cd8_0\",\n",
        "    \"packaging=24.1=py312h06a4308_0\",\n",
        "    \"pcre2=10.42=hebb0a14_1\",\n",
        "    \"pip=24.2=pyh8b19718_1\",\n",
        "    \"platformdirs=3.10.0=py312h06a4308_0\",\n",
        "    \"pluggy=1.0.0=py312h06a4308_1\",\n",
        "    \"pybind11-abi=5=hd3eb1b0_0\",\n",
        "    \"pycosat=0.6.6=py312h5eee18b_1\",\n",
        "    \"pycparser=2.21=pyhd3eb1b0_0\",\n",
        "    \"pysocks=1.7.1=py312h06a4308_0\",\n",
        "    \"python=3.12.2=hab00c5b_0_cpython\",\n",
        "    \"python_abi=3.12=5_cp312\",\n",
        "    \"readline=8.2=h5eee18b_0\",\n",
        "    \"reproc=14.2.4=h6a678d5_2\",\n",
        "    \"reproc-cpp=14.2.4=h6a678d5_2\",\n",
        "    \"requests=2.32.3=py312h06a4308_0\",\n",
        "    \"ruamel.yaml=0.17.21=py312h5eee18b_0\",\n",
        "    \"setuptools=72.1.0=py312h06a4308_0\",\n",
        "    \"sqlite=3.45.3=h5eee18b_0\",\n",
        "    \"tk=8.6.14=h39e8969_0\",\n",
        "    \"tqdm=4.66.4=py312he106c6f_0\",\n",
        "    \"truststore=0.8.0=py312h06a4308_0\",\n",
        "    \"tzdata=2024a=h04d1e81_0\",\n",
        "    \"urllib3=2.2.2=py312h06a4308_0\",\n",
        "    \"wheel=0.43.0=py312h06a4308_0\",\n",
        "    \"xz=5.4.6=h5eee18b_1\",\n",
        "    \"yaml-cpp=0.8.0=h6a678d5_1\",\n",
        "    \"zlib=1.2.13=h4ab18f5_6\",\n",
        "    \"zstandard=0.22.0=py312h2c38b39_0\",\n",
        "    \"zstd=1.5.5=hc292b87_2\",\n",
        "    {\n",
        "      \"pip\": [\n",
        "        \"applicationinsights==0.11.10\",\n",
        "        \"psutil==6.0.0\",\n",
        "        \"azureml-inference-server-http==1.3.4\"\n",
        "      ]\n",
        "    }\n",
        "  ],\n",
        "  \"prefix\": \"/anaconda\"\n",
        "}"
      ],
      "outputs": [],
      "execution_count": 19,
      "metadata": {
        "jupyter": {
          "source_hidden": false,
          "outputs_hidden": false
        },
        "nteract": {
          "transient": {
            "deleting": false
          }
        },
        "gather": {
          "logged": 1733505030911
        }
      }
    },
    {
      "cell_type": "code",
      "source": [
        "#Guardando el modelo\n",
        "model_path = \"./models/tensorflow_series_UK_energy_v2\"\n",
        "mlflow.keras.save_model(model, model_path,signature=signature, conda_env=env, pip_requirements=\"./requirements.txt\")"
      ],
      "outputs": [],
      "execution_count": 2,
      "metadata": {
        "id": "Ul7R5k451qsN",
        "gather": {
          "logged": 1733514150008
        }
      }
    },
    {
      "cell_type": "code",
      "source": [
        "# Cargo el workspace configurado\n",
        "workspace = Workspace.from_config()\n",
        "\n",
        "# Registro el modelo en el workspace\n",
        "registered_model = Model.register(\n",
        "    workspace=workspace,\n",
        "    model_name=\"tensorflow_series_UK_energy\",\n",
        "    model_path=model_path,  # Ruta local donde se guardó el modelo\n",
        "    description=\"Modelo LSTM para la prediccion de Energia en UK\"\n",
        ")\n",
        "\n",
        "print(f\"Modelo registrado con ID: {registered_model.id}\")"
      ],
      "outputs": [
        {
          "output_type": "stream",
          "name": "stdout",
          "text": "Registering model tensorflow_series_UK_energy\nModelo registrado con ID: tensorflow_series_UK_energy:7\n"
        }
      ],
      "execution_count": 3,
      "metadata": {
        "jupyter": {
          "source_hidden": false,
          "outputs_hidden": false
        },
        "nteract": {
          "transient": {
            "deleting": false
          }
        },
        "gather": {
          "logged": 1733514154025
        }
      }
    },
    {
      "cell_type": "code",
      "source": [
        "ngrok.kill()"
      ],
      "outputs": [],
      "execution_count": 21,
      "metadata": {
        "jupyter": {
          "source_hidden": false,
          "outputs_hidden": false
        },
        "nteract": {
          "transient": {
            "deleting": false
          }
        },
        "gather": {
          "logged": 1733498942692
        }
      }
    }
  ],
  "metadata": {
    "colab": {
      "provenance": [],
      "gpuType": "T4"
    },
    "kernelspec": {
      "name": "python38-azureml",
      "language": "python",
      "display_name": "Python 3.8 - AzureML"
    },
    "language_info": {
      "name": "python",
      "version": "3.10.11",
      "mimetype": "text/x-python",
      "codemirror_mode": {
        "name": "ipython",
        "version": 3
      },
      "pygments_lexer": "ipython3",
      "nbconvert_exporter": "python",
      "file_extension": ".py"
    },
    "accelerator": "GPU",
    "microsoft": {
      "ms_spell_check": {
        "ms_spell_check_language": "en"
      },
      "host": {
        "AzureML": {
          "notebookHasBeenCompleted": true
        }
      }
    },
    "kernel_info": {
      "name": "python38-azureml"
    },
    "nteract": {
      "version": "nteract-front-end@1.0.0"
    }
  },
  "nbformat": 4,
  "nbformat_minor": 0
}